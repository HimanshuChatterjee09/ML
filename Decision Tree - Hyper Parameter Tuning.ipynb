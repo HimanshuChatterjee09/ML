{
 "cells": [
  {
   "cell_type": "code",
   "execution_count": 7,
   "id": "cac76efb",
   "metadata": {},
   "outputs": [
    {
     "name": "stdout",
     "output_type": "stream",
     "text": [
      "--2024-03-18 17:03:00--  https://drive.google.com/uc?id=19L3rYatfhbBL1r5MHrv-p_oM2wlvrhqk\n",
      "Resolving drive.google.com... 142.250.180.14\n",
      "Connecting to drive.google.com|142.250.180.14|:443... connected.\n",
      "HTTP request sent, awaiting response... 303 See Other\n",
      "Location: https://drive.usercontent.google.com/download?id=19L3rYatfhbBL1r5MHrv-p_oM2wlvrhqk [following]\n",
      "--2024-03-18 17:03:00--  https://drive.usercontent.google.com/download?id=19L3rYatfhbBL1r5MHrv-p_oM2wlvrhqk\n",
      "Resolving drive.usercontent.google.com... 142.250.178.1\n",
      "Connecting to drive.usercontent.google.com|142.250.178.1|:443... connected.\n",
      "HTTP request sent, awaiting response... 200 OK\n",
      "Length: 534074 (522K) [application/octet-stream]\n",
      "Saving to: 'preprocessed_X_sm.pickle'\n",
      "\n",
      "preprocessed_X_sm.p 100%[===================>] 521.56K  1.27MB/s    in 0.4s    \n",
      "\n",
      "2024-03-18 17:03:01 (1.27 MB/s) - 'preprocessed_X_sm.pickle' saved [534074/534074]\n",
      "\n"
     ]
    }
   ],
   "source": [
    "import pandas as pd\n",
    "import numpy as np\n",
    "\n",
    "!wget --no-check-certificate 'https://drive.google.com/uc?id=19L3rYatfhbBL1r5MHrv-p_oM2wlvrhqk' -O \"preprocessed_X_sm.pickle\"\n"
   ]
  },
  {
   "cell_type": "code",
   "execution_count": 9,
   "id": "f6708a33",
   "metadata": {},
   "outputs": [
    {
     "name": "stdout",
     "output_type": "stream",
     "text": [
      "--2024-03-18 17:04:25--  https://drive.google.com/uc?id=1OHLKJwA3qZopKPvlKoRldM6BvA1A4dYF\n",
      "Resolving drive.google.com... 142.250.180.14\n",
      "Connecting to drive.google.com|142.250.180.14|:443... connected.\n",
      "HTTP request sent, awaiting response... 303 See Other\n",
      "Location: https://drive.usercontent.google.com/download?id=1OHLKJwA3qZopKPvlKoRldM6BvA1A4dYF [following]\n",
      "--2024-03-18 17:04:25--  https://drive.usercontent.google.com/download?id=1OHLKJwA3qZopKPvlKoRldM6BvA1A4dYF\n",
      "Resolving drive.usercontent.google.com... 142.250.178.1\n",
      "Connecting to drive.usercontent.google.com|142.250.178.1|:443... connected.\n",
      "HTTP request sent, awaiting response... 200 OK\n",
      "Length: 110842 (108K) [application/octet-stream]\n",
      "Saving to: 'X_test.pickle'\n",
      "\n",
      "X_test.pickle       100%[===================>] 108.24K  --.-KB/s    in 0.1s    \n",
      "\n",
      "2024-03-18 17:04:26 (1.04 MB/s) - 'X_test.pickle' saved [110842/110842]\n",
      "\n"
     ]
    }
   ],
   "source": [
    "import pandas as pd\n",
    "import numpy as np\n",
    "\n",
    "!wget --no-check-certificate 'https://drive.google.com/uc?id=1OHLKJwA3qZopKPvlKoRldM6BvA1A4dYF' -O \"X_test.pickle\"\n"
   ]
  },
  {
   "cell_type": "code",
   "execution_count": 12,
   "id": "8f598d43",
   "metadata": {},
   "outputs": [
    {
     "name": "stdout",
     "output_type": "stream",
     "text": [
      "--2024-03-18 17:05:15--  https://drive.google.com/uc?id=1N7O_fWCTJLu8SIa_paKcDEzllgpMk8sK\n",
      "Resolving drive.google.com... 142.250.180.14\n",
      "Connecting to drive.google.com|142.250.180.14|:443... connected.\n",
      "HTTP request sent, awaiting response... 303 See Other\n",
      "Location: https://drive.usercontent.google.com/download?id=1N7O_fWCTJLu8SIa_paKcDEzllgpMk8sK [following]\n",
      "--2024-03-18 17:05:15--  https://drive.usercontent.google.com/download?id=1N7O_fWCTJLu8SIa_paKcDEzllgpMk8sK\n",
      "Resolving drive.usercontent.google.com... 142.250.178.1\n",
      "Connecting to drive.usercontent.google.com|142.250.178.1|:443... connected.\n",
      "HTTP request sent, awaiting response... 200 OK\n",
      "Length: 15403 (15K) [application/octet-stream]\n",
      "Saving to: 'y_sm.pickle'\n",
      "\n",
      "y_sm.pickle         100%[===================>]  15.04K  --.-KB/s    in 0.03s   \n",
      "\n",
      "2024-03-18 17:05:16 (502 KB/s) - 'y_sm.pickle' saved [15403/15403]\n",
      "\n"
     ]
    }
   ],
   "source": [
    "import pandas as pd\n",
    "import numpy as np\n",
    "\n",
    "!wget --no-check-certificate 'https://drive.google.com/uc?id=1N7O_fWCTJLu8SIa_paKcDEzllgpMk8sK' -O \"y_sm.pickle\"\n"
   ]
  },
  {
   "cell_type": "code",
   "execution_count": 13,
   "id": "de63a652",
   "metadata": {},
   "outputs": [
    {
     "name": "stdout",
     "output_type": "stream",
     "text": [
      "--2024-03-18 17:05:17--  https://drive.google.com/uc?id=12Bh2AN8LcZAlg20ehpQrEWccUDaSdsOG\n",
      "Resolving drive.google.com... 142.250.180.14\n",
      "Connecting to drive.google.com|142.250.180.14|:443... connected.\n",
      "HTTP request sent, awaiting response... 303 See Other\n",
      "Location: https://drive.usercontent.google.com/download?id=12Bh2AN8LcZAlg20ehpQrEWccUDaSdsOG [following]\n",
      "--2024-03-18 17:05:17--  https://drive.usercontent.google.com/download?id=12Bh2AN8LcZAlg20ehpQrEWccUDaSdsOG\n",
      "Resolving drive.usercontent.google.com... 142.250.178.1\n",
      "Connecting to drive.usercontent.google.com|142.250.178.1|:443... connected.\n",
      "HTTP request sent, awaiting response... 200 OK\n",
      "Length: 9488 (9.3K) [application/octet-stream]\n",
      "Saving to: 'y_test.pickle'\n",
      "\n",
      "y_test.pickle       100%[===================>]   9.27K  --.-KB/s    in 0.001s  \n",
      "\n",
      "2024-03-18 17:05:18 (8.85 MB/s) - 'y_test.pickle' saved [9488/9488]\n",
      "\n"
     ]
    }
   ],
   "source": [
    "import pandas as pd\n",
    "import numpy as np\n",
    "\n",
    "!wget --no-check-certificate 'https://drive.google.com/uc?id=12Bh2AN8LcZAlg20ehpQrEWccUDaSdsOG' -O \"y_test.pickle\"\n"
   ]
  },
  {
   "cell_type": "code",
   "execution_count": 14,
   "id": "36f3bff3",
   "metadata": {},
   "outputs": [],
   "source": [
    "import pickle\n",
    "# Load data (deserialize)\n",
    "with open('preprocessed_X_sm.pickle', 'rb') as handle:\n",
    "    X_train = pickle.load(handle)\n",
    "\n",
    "with open('X_test.pickle', 'rb') as handle:\n",
    "    X_test = pickle.load(handle)\n",
    "\n",
    "with open('y_sm.pickle', 'rb') as handle:\n",
    "    y_train = pickle.load(handle)\n",
    "\n",
    "with open('y_test.pickle', 'rb') as handle:\n",
    "    y_test = pickle.load(handle)"
   ]
  },
  {
   "cell_type": "code",
   "execution_count": 15,
   "id": "7d5aa65d",
   "metadata": {},
   "outputs": [],
   "source": [
    "from sklearn.tree import DecisionTreeClassifier\n",
    "from sklearn.model_selection import KFold, cross_validate, cross_val_score"
   ]
  },
  {
   "cell_type": "code",
   "execution_count": 16,
   "id": "0b88b1b6",
   "metadata": {},
   "outputs": [
    {
     "name": "stdout",
     "output_type": "stream",
     "text": [
      "K-Fold for depth:3 Accuracy Mean: Train: 79.05957241451492 Validation: 58.20248130951998\n",
      "K-Fold for depth: 3 Accuracy Std: Train: 2.6138019385686837 Validation: 29.93940671293915\n",
      "***************\n",
      "K-Fold for depth:4 Accuracy Mean: Train: 83.04520064810544 Validation: 59.45148462724676\n",
      "K-Fold for depth: 4 Accuracy Std: Train: 2.107431489809007 Validation: 28.287864704057203\n",
      "***************\n",
      "K-Fold for depth:5 Accuracy Mean: Train: 86.93193173711038 Validation: 58.72438100485653\n",
      "K-Fold for depth: 5 Accuracy Std: Train: 2.094679308078006 Validation: 29.99694071778251\n",
      "***************\n",
      "K-Fold for depth:6 Accuracy Mean: Train: 90.10550632443248 Validation: 62.76263939366895\n",
      "K-Fold for depth: 6 Accuracy Std: Train: 1.9510179942109511 Validation: 28.061755034815555\n",
      "***************\n",
      "K-Fold for depth:7 Accuracy Mean: Train: 93.05464005673872 Validation: 64.50161392677323\n",
      "K-Fold for depth: 7 Accuracy Std: Train: 1.480853585466351 Validation: 26.971793419645905\n",
      "***************\n",
      "K-Fold for depth:9 Accuracy Mean: Train: 97.26002216570426 Validation: 62.805526505555775\n",
      "K-Fold for depth: 9 Accuracy Std: Train: 0.5391375324690352 Validation: 28.92182271523021\n",
      "***************\n",
      "K-Fold for depth:11 Accuracy Mean: Train: 99.09939752305925 Validation: 62.11350309514273\n",
      "K-Fold for depth: 11 Accuracy Std: Train: 0.36629263083347763 Validation: 29.717761763267088\n",
      "***************\n",
      "K-Fold for depth:13 Accuracy Mean: Train: 99.78182384629777 Validation: 60.91334558573396\n",
      "K-Fold for depth: 13 Accuracy Std: Train: 0.20703973139856685 Validation: 30.59192375205694\n",
      "***************\n",
      "K-Fold for depth:15 Accuracy Mean: Train: 99.93728130197248 Validation: 62.20329994166956\n",
      "K-Fold for depth: 15 Accuracy Std: Train: 0.07712370750436588 Validation: 29.60865907761963\n",
      "***************\n"
     ]
    }
   ],
   "source": [
    "kfold = KFold(n_splits=10)\n",
    "\n",
    "depths = [3,4,5,6,7,9,11,13,15]\n",
    "\n",
    "for depth in depths:\n",
    "    tree_clf = DecisionTreeClassifier(random_state=7, max_depth=depth)\n",
    "\n",
    "    cv_acc_results = cross_validate(tree_clf, X_train, y_train, cv = kfold, scoring = 'f1', return_train_score = True)\n",
    "    print(f\"K-Fold for depth:{depth} Accuracy Mean: Train: {cv_acc_results['train_score'].mean()*100} Validation: {cv_acc_results['test_score'].mean()*100}\")\n",
    "    print(f\"K-Fold for depth: {depth} Accuracy Std: Train: {cv_acc_results['train_score'].std()*100} Validation: {cv_acc_results['test_score'].std()*100}\")\n",
    "    print('***************')"
   ]
  },
  {
   "cell_type": "code",
   "execution_count": 17,
   "id": "6ad54aff",
   "metadata": {},
   "outputs": [
    {
     "ename": "ValueError",
     "evalue": "cannot set WRITEABLE flag to True of this array",
     "output_type": "error",
     "traceback": [
      "\u001b[0;31m---------------------------------------------------------------------------\u001b[0m",
      "\u001b[0;31mValueError\u001b[0m                                Traceback (most recent call last)",
      "\u001b[0;32m/var/folders/ct/2bvqhsjs0znb9blg662kf6840000gn/T/ipykernel_68522/740844605.py\u001b[0m in \u001b[0;36m<module>\u001b[0;34m\u001b[0m\n\u001b[1;32m      1\u001b[0m \u001b[0mtree_clf\u001b[0m \u001b[0;34m=\u001b[0m \u001b[0mDecisionTreeClassifier\u001b[0m\u001b[0;34m(\u001b[0m\u001b[0mrandom_state\u001b[0m\u001b[0;34m=\u001b[0m\u001b[0;36m7\u001b[0m\u001b[0;34m,\u001b[0m \u001b[0mmax_depth\u001b[0m\u001b[0;34m=\u001b[0m\u001b[0;36m7\u001b[0m\u001b[0;34m)\u001b[0m\u001b[0;34m\u001b[0m\u001b[0;34m\u001b[0m\u001b[0m\n\u001b[0;32m----> 2\u001b[0;31m \u001b[0mtree_clf\u001b[0m\u001b[0;34m=\u001b[0m\u001b[0mtree_clf\u001b[0m\u001b[0;34m.\u001b[0m\u001b[0mfit\u001b[0m\u001b[0;34m(\u001b[0m\u001b[0mX_train\u001b[0m\u001b[0;34m,\u001b[0m \u001b[0my_train\u001b[0m\u001b[0;34m)\u001b[0m\u001b[0;34m\u001b[0m\u001b[0;34m\u001b[0m\u001b[0m\n\u001b[0m\u001b[1;32m      3\u001b[0m \u001b[0mpred\u001b[0m \u001b[0;34m=\u001b[0m \u001b[0mtree_clf\u001b[0m\u001b[0;34m.\u001b[0m\u001b[0mpredict\u001b[0m\u001b[0;34m(\u001b[0m\u001b[0mX_test\u001b[0m\u001b[0;34m)\u001b[0m\u001b[0;34m\u001b[0m\u001b[0;34m\u001b[0m\u001b[0m\n",
      "\u001b[0;32m~/opt/anaconda3/lib/python3.9/site-packages/sklearn/base.py\u001b[0m in \u001b[0;36mwrapper\u001b[0;34m(estimator, *args, **kwargs)\u001b[0m\n\u001b[1;32m   1472\u001b[0m                 )\n\u001b[1;32m   1473\u001b[0m             ):\n\u001b[0;32m-> 1474\u001b[0;31m                 \u001b[0;32mreturn\u001b[0m \u001b[0mfit_method\u001b[0m\u001b[0;34m(\u001b[0m\u001b[0mestimator\u001b[0m\u001b[0;34m,\u001b[0m \u001b[0;34m*\u001b[0m\u001b[0margs\u001b[0m\u001b[0;34m,\u001b[0m \u001b[0;34m**\u001b[0m\u001b[0mkwargs\u001b[0m\u001b[0;34m)\u001b[0m\u001b[0;34m\u001b[0m\u001b[0;34m\u001b[0m\u001b[0m\n\u001b[0m\u001b[1;32m   1475\u001b[0m \u001b[0;34m\u001b[0m\u001b[0m\n\u001b[1;32m   1476\u001b[0m         \u001b[0;32mreturn\u001b[0m \u001b[0mwrapper\u001b[0m\u001b[0;34m\u001b[0m\u001b[0;34m\u001b[0m\u001b[0m\n",
      "\u001b[0;32m~/opt/anaconda3/lib/python3.9/site-packages/sklearn/tree/_classes.py\u001b[0m in \u001b[0;36mfit\u001b[0;34m(self, X, y, sample_weight, check_input)\u001b[0m\n\u001b[1;32m   1007\u001b[0m         \"\"\"\n\u001b[1;32m   1008\u001b[0m \u001b[0;34m\u001b[0m\u001b[0m\n\u001b[0;32m-> 1009\u001b[0;31m         super()._fit(\n\u001b[0m\u001b[1;32m   1010\u001b[0m             \u001b[0mX\u001b[0m\u001b[0;34m,\u001b[0m\u001b[0;34m\u001b[0m\u001b[0;34m\u001b[0m\u001b[0m\n\u001b[1;32m   1011\u001b[0m             \u001b[0my\u001b[0m\u001b[0;34m,\u001b[0m\u001b[0;34m\u001b[0m\u001b[0;34m\u001b[0m\u001b[0m\n",
      "\u001b[0;32m~/opt/anaconda3/lib/python3.9/site-packages/sklearn/tree/_classes.py\u001b[0m in \u001b[0;36m_fit\u001b[0;34m(self, X, y, sample_weight, check_input, missing_values_in_feature_mask)\u001b[0m\n\u001b[1;32m    250\u001b[0m             )\n\u001b[1;32m    251\u001b[0m             \u001b[0mcheck_y_params\u001b[0m \u001b[0;34m=\u001b[0m \u001b[0mdict\u001b[0m\u001b[0;34m(\u001b[0m\u001b[0mensure_2d\u001b[0m\u001b[0;34m=\u001b[0m\u001b[0;32mFalse\u001b[0m\u001b[0;34m,\u001b[0m \u001b[0mdtype\u001b[0m\u001b[0;34m=\u001b[0m\u001b[0;32mNone\u001b[0m\u001b[0;34m)\u001b[0m\u001b[0;34m\u001b[0m\u001b[0;34m\u001b[0m\u001b[0m\n\u001b[0;32m--> 252\u001b[0;31m             X, y = self._validate_data(\n\u001b[0m\u001b[1;32m    253\u001b[0m                 \u001b[0mX\u001b[0m\u001b[0;34m,\u001b[0m \u001b[0my\u001b[0m\u001b[0;34m,\u001b[0m \u001b[0mvalidate_separately\u001b[0m\u001b[0;34m=\u001b[0m\u001b[0;34m(\u001b[0m\u001b[0mcheck_X_params\u001b[0m\u001b[0;34m,\u001b[0m \u001b[0mcheck_y_params\u001b[0m\u001b[0;34m)\u001b[0m\u001b[0;34m\u001b[0m\u001b[0;34m\u001b[0m\u001b[0m\n\u001b[1;32m    254\u001b[0m             )\n",
      "\u001b[0;32m~/opt/anaconda3/lib/python3.9/site-packages/sklearn/base.py\u001b[0m in \u001b[0;36m_validate_data\u001b[0;34m(self, X, y, reset, validate_separately, cast_to_ndarray, **check_params)\u001b[0m\n\u001b[1;32m    646\u001b[0m                 \u001b[0;32mif\u001b[0m \u001b[0;34m\"estimator\"\u001b[0m \u001b[0;32mnot\u001b[0m \u001b[0;32min\u001b[0m \u001b[0mcheck_y_params\u001b[0m\u001b[0;34m:\u001b[0m\u001b[0;34m\u001b[0m\u001b[0;34m\u001b[0m\u001b[0m\n\u001b[1;32m    647\u001b[0m                     \u001b[0mcheck_y_params\u001b[0m \u001b[0;34m=\u001b[0m \u001b[0;34m{\u001b[0m\u001b[0;34m**\u001b[0m\u001b[0mdefault_check_params\u001b[0m\u001b[0;34m,\u001b[0m \u001b[0;34m**\u001b[0m\u001b[0mcheck_y_params\u001b[0m\u001b[0;34m}\u001b[0m\u001b[0;34m\u001b[0m\u001b[0;34m\u001b[0m\u001b[0m\n\u001b[0;32m--> 648\u001b[0;31m                 \u001b[0my\u001b[0m \u001b[0;34m=\u001b[0m \u001b[0mcheck_array\u001b[0m\u001b[0;34m(\u001b[0m\u001b[0my\u001b[0m\u001b[0;34m,\u001b[0m \u001b[0minput_name\u001b[0m\u001b[0;34m=\u001b[0m\u001b[0;34m\"y\"\u001b[0m\u001b[0;34m,\u001b[0m \u001b[0;34m**\u001b[0m\u001b[0mcheck_y_params\u001b[0m\u001b[0;34m)\u001b[0m\u001b[0;34m\u001b[0m\u001b[0;34m\u001b[0m\u001b[0m\n\u001b[0m\u001b[1;32m    649\u001b[0m             \u001b[0;32melse\u001b[0m\u001b[0;34m:\u001b[0m\u001b[0;34m\u001b[0m\u001b[0;34m\u001b[0m\u001b[0m\n\u001b[1;32m    650\u001b[0m                 \u001b[0mX\u001b[0m\u001b[0;34m,\u001b[0m \u001b[0my\u001b[0m \u001b[0;34m=\u001b[0m \u001b[0mcheck_X_y\u001b[0m\u001b[0;34m(\u001b[0m\u001b[0mX\u001b[0m\u001b[0;34m,\u001b[0m \u001b[0my\u001b[0m\u001b[0;34m,\u001b[0m \u001b[0;34m**\u001b[0m\u001b[0mcheck_params\u001b[0m\u001b[0;34m)\u001b[0m\u001b[0;34m\u001b[0m\u001b[0;34m\u001b[0m\u001b[0m\n",
      "\u001b[0;32m~/opt/anaconda3/lib/python3.9/site-packages/sklearn/utils/validation.py\u001b[0m in \u001b[0;36mcheck_array\u001b[0;34m(array, accept_sparse, accept_large_sparse, dtype, order, copy, force_all_finite, ensure_2d, allow_nd, ensure_min_samples, ensure_min_features, estimator, input_name)\u001b[0m\n\u001b[1;32m   1095\u001b[0m     \u001b[0;31m# default in pandas 3.0.0.dev.\u001b[0m\u001b[0;34m\u001b[0m\u001b[0;34m\u001b[0m\u001b[0m\n\u001b[1;32m   1096\u001b[0m     \u001b[0;32mif\u001b[0m \u001b[0m_is_pandas_df_or_series\u001b[0m\u001b[0;34m(\u001b[0m\u001b[0marray_orig\u001b[0m\u001b[0;34m)\u001b[0m \u001b[0;32mand\u001b[0m \u001b[0mhasattr\u001b[0m\u001b[0;34m(\u001b[0m\u001b[0marray\u001b[0m\u001b[0;34m,\u001b[0m \u001b[0;34m\"flags\"\u001b[0m\u001b[0;34m)\u001b[0m\u001b[0;34m:\u001b[0m\u001b[0;34m\u001b[0m\u001b[0;34m\u001b[0m\u001b[0m\n\u001b[0;32m-> 1097\u001b[0;31m         \u001b[0marray\u001b[0m\u001b[0;34m.\u001b[0m\u001b[0mflags\u001b[0m\u001b[0;34m.\u001b[0m\u001b[0mwriteable\u001b[0m \u001b[0;34m=\u001b[0m \u001b[0;32mTrue\u001b[0m\u001b[0;34m\u001b[0m\u001b[0;34m\u001b[0m\u001b[0m\n\u001b[0m\u001b[1;32m   1098\u001b[0m \u001b[0;34m\u001b[0m\u001b[0m\n\u001b[1;32m   1099\u001b[0m     \u001b[0;32mreturn\u001b[0m \u001b[0marray\u001b[0m\u001b[0;34m\u001b[0m\u001b[0;34m\u001b[0m\u001b[0m\n",
      "\u001b[0;31mValueError\u001b[0m: cannot set WRITEABLE flag to True of this array"
     ]
    }
   ],
   "source": [
    "tree_clf = DecisionTreeClassifier(random_state=7, max_depth=7)\n",
    "tree_clf=tree_clf.fit(X_train, y_train)\n",
    "pred = tree_clf.predict(X_test)"
   ]
  },
  {
   "cell_type": "code",
   "execution_count": null,
   "id": "8fa9b4bb",
   "metadata": {},
   "outputs": [],
   "source": []
  }
 ],
 "metadata": {
  "kernelspec": {
   "display_name": "Python 3 (ipykernel)",
   "language": "python",
   "name": "python3"
  },
  "language_info": {
   "codemirror_mode": {
    "name": "ipython",
    "version": 3
   },
   "file_extension": ".py",
   "mimetype": "text/x-python",
   "name": "python",
   "nbconvert_exporter": "python",
   "pygments_lexer": "ipython3",
   "version": "3.9.7"
  }
 },
 "nbformat": 4,
 "nbformat_minor": 5
}
