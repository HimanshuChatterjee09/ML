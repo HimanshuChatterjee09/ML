{
 "cells": [
  {
   "cell_type": "code",
   "execution_count": 146,
   "id": "1f6e0ab0",
   "metadata": {},
   "outputs": [
    {
     "name": "stdout",
     "output_type": "stream",
     "text": [
      "--2024-03-15 15:43:32--  https://drive.google.com/uc?export=download&id=1ZdhRqYv-JizWV6DxO6C4R_k1kxPhmlF2\n",
      "Resolving drive.google.com... 142.250.180.14\n",
      "Connecting to drive.google.com|142.250.180.14|:443... connected.\n",
      "HTTP request sent, awaiting response... 303 See Other\n",
      "Location: https://drive.usercontent.google.com/download?id=1ZdhRqYv-JizWV6DxO6C4R_k1kxPhmlF2&export=download [following]\n",
      "--2024-03-15 15:43:32--  https://drive.usercontent.google.com/download?id=1ZdhRqYv-JizWV6DxO6C4R_k1kxPhmlF2&export=download\n",
      "Resolving drive.usercontent.google.com... 142.250.178.1\n",
      "Connecting to drive.usercontent.google.com|142.250.178.1|:443... connected.\n",
      "HTTP request sent, awaiting response... 200 OK\n",
      "Length: 14578 (14K) [application/octet-stream]\n",
      "Saving to: 'HR-Employee-Attrition.csv'\n",
      "\n",
      "HR-Employee-Attriti 100%[===================>]  14.24K  --.-KB/s    in 0.06s   \n",
      "\n",
      "2024-03-15 15:43:34 (242 KB/s) - 'HR-Employee-Attrition.csv' saved [14578/14578]\n",
      "\n"
     ]
    }
   ],
   "source": [
    "!wget --no-check-certificate 'https://drive.google.com/uc?export=download&id=1ZdhRqYv-JizWV6DxO6C4R_k1kxPhmlF2' -O \"multiclass.csv\""
   ]
  },
  {
   "cell_type": "code",
   "execution_count": 3,
   "id": "842faec7",
   "metadata": {},
   "outputs": [],
   "source": [
    "df = pd.read_csv(\"multiclass.csv\")"
   ]
  },
  {
   "cell_type": "code",
   "execution_count": 4,
   "id": "04c0d423",
   "metadata": {},
   "outputs": [
    {
     "data": {
      "text/html": [
       "<div>\n",
       "<style scoped>\n",
       "    .dataframe tbody tr th:only-of-type {\n",
       "        vertical-align: middle;\n",
       "    }\n",
       "\n",
       "    .dataframe tbody tr th {\n",
       "        vertical-align: top;\n",
       "    }\n",
       "\n",
       "    .dataframe thead th {\n",
       "        text-align: right;\n",
       "    }\n",
       "</style>\n",
       "<table border=\"1\" class=\"dataframe\">\n",
       "  <thead>\n",
       "    <tr style=\"text-align: right;\">\n",
       "      <th></th>\n",
       "      <th>Region</th>\n",
       "      <th>Fresh</th>\n",
       "      <th>Milk</th>\n",
       "      <th>Grocery</th>\n",
       "      <th>Frozen</th>\n",
       "      <th>Detergents_Paper</th>\n",
       "      <th>Delicassen</th>\n",
       "      <th>class</th>\n",
       "    </tr>\n",
       "  </thead>\n",
       "  <tbody>\n",
       "    <tr>\n",
       "      <th>0</th>\n",
       "      <td>3</td>\n",
       "      <td>12669</td>\n",
       "      <td>9656</td>\n",
       "      <td>7561</td>\n",
       "      <td>214</td>\n",
       "      <td>2674</td>\n",
       "      <td>1338</td>\n",
       "      <td>2</td>\n",
       "    </tr>\n",
       "    <tr>\n",
       "      <th>1</th>\n",
       "      <td>3</td>\n",
       "      <td>7057</td>\n",
       "      <td>9810</td>\n",
       "      <td>9568</td>\n",
       "      <td>1762</td>\n",
       "      <td>3293</td>\n",
       "      <td>1776</td>\n",
       "      <td>2</td>\n",
       "    </tr>\n",
       "    <tr>\n",
       "      <th>2</th>\n",
       "      <td>3</td>\n",
       "      <td>6353</td>\n",
       "      <td>8808</td>\n",
       "      <td>7684</td>\n",
       "      <td>2405</td>\n",
       "      <td>3516</td>\n",
       "      <td>7844</td>\n",
       "      <td>2</td>\n",
       "    </tr>\n",
       "    <tr>\n",
       "      <th>3</th>\n",
       "      <td>3</td>\n",
       "      <td>13265</td>\n",
       "      <td>1196</td>\n",
       "      <td>4221</td>\n",
       "      <td>6404</td>\n",
       "      <td>507</td>\n",
       "      <td>1788</td>\n",
       "      <td>1</td>\n",
       "    </tr>\n",
       "    <tr>\n",
       "      <th>4</th>\n",
       "      <td>3</td>\n",
       "      <td>22615</td>\n",
       "      <td>5410</td>\n",
       "      <td>7198</td>\n",
       "      <td>3915</td>\n",
       "      <td>1777</td>\n",
       "      <td>5185</td>\n",
       "      <td>1</td>\n",
       "    </tr>\n",
       "  </tbody>\n",
       "</table>\n",
       "</div>"
      ],
      "text/plain": [
       "   Region  Fresh  Milk  Grocery  Frozen  Detergents_Paper  Delicassen  class\n",
       "0       3  12669  9656     7561     214              2674        1338      2\n",
       "1       3   7057  9810     9568    1762              3293        1776      2\n",
       "2       3   6353  8808     7684    2405              3516        7844      2\n",
       "3       3  13265  1196     4221    6404               507        1788      1\n",
       "4       3  22615  5410     7198    3915              1777        5185      1"
      ]
     },
     "execution_count": 4,
     "metadata": {},
     "output_type": "execute_result"
    }
   ],
   "source": [
    "df.head()"
   ]
  },
  {
   "cell_type": "code",
   "execution_count": 5,
   "id": "6ec208e2",
   "metadata": {},
   "outputs": [
    {
     "data": {
      "image/png": "[encoded data removed]",
      "text/plain": [
       "<Figure size 432x288 with 1 Axes>"
      ]
     },
     "metadata": {
      "needs_background": "light"
     },
     "output_type": "display_data"
    }
   ],
   "source": [
    "import seaborn as sns\n",
    "import matplotlib.pyplot as plt\n",
    "\n",
    "sns.histplot(data=df, x = \"class\")\n",
    "plt.show()"
   ]
  },
  {
   "cell_type": "code",
   "execution_count": 6,
   "id": "6b6deb70",
   "metadata": {},
   "outputs": [],
   "source": [
    "# This shows that the data is imbalance"
   ]
  },
  {
   "cell_type": "code",
   "execution_count": 12,
   "id": "984de061",
   "metadata": {},
   "outputs": [],
   "source": [
    "y = df[['class']].copy()"
   ]
  },
  {
   "cell_type": "code",
   "execution_count": 13,
   "id": "94ec558b",
   "metadata": {},
   "outputs": [
    {
     "data": {
      "text/html": [
       "<div>\n",
       "<style scoped>\n",
       "    .dataframe tbody tr th:only-of-type {\n",
       "        vertical-align: middle;\n",
       "    }\n",
       "\n",
       "    .dataframe tbody tr th {\n",
       "        vertical-align: top;\n",
       "    }\n",
       "\n",
       "    .dataframe thead th {\n",
       "        text-align: right;\n",
       "    }\n",
       "</style>\n",
       "<table border=\"1\" class=\"dataframe\">\n",
       "  <thead>\n",
       "    <tr style=\"text-align: right;\">\n",
       "      <th></th>\n",
       "      <th>class</th>\n",
       "    </tr>\n",
       "  </thead>\n",
       "  <tbody>\n",
       "    <tr>\n",
       "      <th>0</th>\n",
       "      <td>2</td>\n",
       "    </tr>\n",
       "    <tr>\n",
       "      <th>1</th>\n",
       "      <td>2</td>\n",
       "    </tr>\n",
       "    <tr>\n",
       "      <th>2</th>\n",
       "      <td>2</td>\n",
       "    </tr>\n",
       "    <tr>\n",
       "      <th>3</th>\n",
       "      <td>1</td>\n",
       "    </tr>\n",
       "    <tr>\n",
       "      <th>4</th>\n",
       "      <td>1</td>\n",
       "    </tr>\n",
       "  </tbody>\n",
       "</table>\n",
       "</div>"
      ],
      "text/plain": [
       "   class\n",
       "0      2\n",
       "1      2\n",
       "2      2\n",
       "3      1\n",
       "4      1"
      ]
     },
     "execution_count": 13,
     "metadata": {},
     "output_type": "execute_result"
    }
   ],
   "source": [
    "y.head()"
   ]
  },
  {
   "cell_type": "code",
   "execution_count": 14,
   "id": "e2c849ad",
   "metadata": {},
   "outputs": [],
   "source": [
    "X = df.drop([\"class\"], axis  = 1).copy()"
   ]
  },
  {
   "cell_type": "code",
   "execution_count": 15,
   "id": "4ceaae64",
   "metadata": {},
   "outputs": [
    {
     "data": {
      "text/html": [
       "<div>\n",
       "<style scoped>\n",
       "    .dataframe tbody tr th:only-of-type {\n",
       "        vertical-align: middle;\n",
       "    }\n",
       "\n",
       "    .dataframe tbody tr th {\n",
       "        vertical-align: top;\n",
       "    }\n",
       "\n",
       "    .dataframe thead th {\n",
       "        text-align: right;\n",
       "    }\n",
       "</style>\n",
       "<table border=\"1\" class=\"dataframe\">\n",
       "  <thead>\n",
       "    <tr style=\"text-align: right;\">\n",
       "      <th></th>\n",
       "      <th>Region</th>\n",
       "      <th>Fresh</th>\n",
       "      <th>Milk</th>\n",
       "      <th>Grocery</th>\n",
       "      <th>Frozen</th>\n",
       "      <th>Detergents_Paper</th>\n",
       "      <th>Delicassen</th>\n",
       "    </tr>\n",
       "  </thead>\n",
       "  <tbody>\n",
       "    <tr>\n",
       "      <th>0</th>\n",
       "      <td>3</td>\n",
       "      <td>12669</td>\n",
       "      <td>9656</td>\n",
       "      <td>7561</td>\n",
       "      <td>214</td>\n",
       "      <td>2674</td>\n",
       "      <td>1338</td>\n",
       "    </tr>\n",
       "    <tr>\n",
       "      <th>1</th>\n",
       "      <td>3</td>\n",
       "      <td>7057</td>\n",
       "      <td>9810</td>\n",
       "      <td>9568</td>\n",
       "      <td>1762</td>\n",
       "      <td>3293</td>\n",
       "      <td>1776</td>\n",
       "    </tr>\n",
       "    <tr>\n",
       "      <th>2</th>\n",
       "      <td>3</td>\n",
       "      <td>6353</td>\n",
       "      <td>8808</td>\n",
       "      <td>7684</td>\n",
       "      <td>2405</td>\n",
       "      <td>3516</td>\n",
       "      <td>7844</td>\n",
       "    </tr>\n",
       "    <tr>\n",
       "      <th>3</th>\n",
       "      <td>3</td>\n",
       "      <td>13265</td>\n",
       "      <td>1196</td>\n",
       "      <td>4221</td>\n",
       "      <td>6404</td>\n",
       "      <td>507</td>\n",
       "      <td>1788</td>\n",
       "    </tr>\n",
       "    <tr>\n",
       "      <th>4</th>\n",
       "      <td>3</td>\n",
       "      <td>22615</td>\n",
       "      <td>5410</td>\n",
       "      <td>7198</td>\n",
       "      <td>3915</td>\n",
       "      <td>1777</td>\n",
       "      <td>5185</td>\n",
       "    </tr>\n",
       "  </tbody>\n",
       "</table>\n",
       "</div>"
      ],
      "text/plain": [
       "   Region  Fresh  Milk  Grocery  Frozen  Detergents_Paper  Delicassen\n",
       "0       3  12669  9656     7561     214              2674        1338\n",
       "1       3   7057  9810     9568    1762              3293        1776\n",
       "2       3   6353  8808     7684    2405              3516        7844\n",
       "3       3  13265  1196     4221    6404               507        1788\n",
       "4       3  22615  5410     7198    3915              1777        5185"
      ]
     },
     "execution_count": 15,
     "metadata": {},
     "output_type": "execute_result"
    }
   ],
   "source": [
    "X.head()"
   ]
  },
  {
   "cell_type": "code",
   "execution_count": 16,
   "id": "55450850",
   "metadata": {},
   "outputs": [],
   "source": [
    "#we have X as Features and y as Target"
   ]
  },
  {
   "cell_type": "code",
   "execution_count": 17,
   "id": "f58c492e",
   "metadata": {},
   "outputs": [],
   "source": [
    "from sklearn.decomposition import PCA"
   ]
  },
  {
   "cell_type": "code",
   "execution_count": 19,
   "id": "5fd2e9c2",
   "metadata": {},
   "outputs": [],
   "source": [
    "pca = PCA(n_components=2)"
   ]
  },
  {
   "cell_type": "code",
   "execution_count": 20,
   "id": "13b56a73",
   "metadata": {},
   "outputs": [],
   "source": [
    "viz = pca.fit_transform(X)"
   ]
  },
  {
   "cell_type": "code",
   "execution_count": 21,
   "id": "e12d2e14",
   "metadata": {},
   "outputs": [
    {
     "data": {
      "text/plain": [
       "array([ 650.02212362, 1585.51909033])"
      ]
     },
     "execution_count": 21,
     "metadata": {},
     "output_type": "execute_result"
    }
   ],
   "source": [
    "viz[0]"
   ]
  },
  {
   "cell_type": "code",
   "execution_count": 24,
   "id": "d8a68bc7",
   "metadata": {},
   "outputs": [
    {
     "data": {
      "image/png": "[encoded data removed]",
      "text/plain": [
       "<Figure size 432x288 with 1 Axes>"
      ]
     },
     "metadata": {
      "needs_background": "light"
     },
     "output_type": "display_data"
    }
   ],
   "source": [
    "plt.scatter(viz[:,0], viz[:,1], c=y.values[:,0])\n",
    "plt.show()"
   ]
  },
  {
   "cell_type": "code",
   "execution_count": 25,
   "id": "7a01651a",
   "metadata": {},
   "outputs": [],
   "source": [
    "# Starting to implement KNN"
   ]
  },
  {
   "cell_type": "markdown",
   "id": "8ac4f83c",
   "metadata": {},
   "source": [
    "# Step 1 in any Machine learning Implementation - Test-Train Split [Very Important]"
   ]
  },
  {
   "cell_type": "code",
   "execution_count": 92,
   "id": "11e6bf17",
   "metadata": {},
   "outputs": [],
   "source": [
    "from sklearn.model_selection import train_test_split"
   ]
  },
  {
   "cell_type": "code",
   "execution_count": 93,
   "id": "21db50bf",
   "metadata": {},
   "outputs": [],
   "source": [
    "X_train, X_test, y_train, y_test = train_test_split(X,y,test_size=0.2, random_state=42) # Random state will help to reproduce the result"
   ]
  },
  {
   "cell_type": "code",
   "execution_count": 94,
   "id": "462f4c95",
   "metadata": {},
   "outputs": [],
   "source": [
    "X_train, X_val, y_train, y_val = train_test_split(X_train,y_train,test_size=0.25, random_state=42)"
   ]
  },
  {
   "cell_type": "code",
   "execution_count": 95,
   "id": "4c2f163a",
   "metadata": {},
   "outputs": [
    {
     "data": {
      "text/plain": [
       "(264, 7)"
      ]
     },
     "execution_count": 95,
     "metadata": {},
     "output_type": "execute_result"
    }
   ],
   "source": [
    "X_train.shape"
   ]
  },
  {
   "cell_type": "code",
   "execution_count": 96,
   "id": "b67e4e6b",
   "metadata": {},
   "outputs": [
    {
     "data": {
      "text/plain": [
       "(88, 7)"
      ]
     },
     "execution_count": 96,
     "metadata": {},
     "output_type": "execute_result"
    }
   ],
   "source": [
    "X_test.shape"
   ]
  },
  {
   "cell_type": "code",
   "execution_count": 97,
   "id": "30018044",
   "metadata": {},
   "outputs": [
    {
     "data": {
      "text/plain": [
       "(88, 7)"
      ]
     },
     "execution_count": 97,
     "metadata": {},
     "output_type": "execute_result"
    }
   ],
   "source": [
    "X_val.shape"
   ]
  },
  {
   "cell_type": "code",
   "execution_count": 98,
   "id": "dc3e6a17",
   "metadata": {},
   "outputs": [],
   "source": [
    "# The problem is that our dataset is not balanced, lets use S.M.O.T.E"
   ]
  },
  {
   "cell_type": "code",
   "execution_count": 99,
   "id": "de03de90",
   "metadata": {},
   "outputs": [],
   "source": [
    "from imblearn.over_sampling import SMOTE"
   ]
  },
  {
   "cell_type": "code",
   "execution_count": 100,
   "id": "f3fa7685",
   "metadata": {},
   "outputs": [],
   "source": [
    "smt = SMOTE()"
   ]
  },
  {
   "cell_type": "code",
   "execution_count": 101,
   "id": "5b1fcb4f",
   "metadata": {},
   "outputs": [],
   "source": [
    "X_train,y_train = smt.fit_resample(X_train, y_train)"
   ]
  },
  {
   "cell_type": "code",
   "execution_count": 102,
   "id": "48dfe304",
   "metadata": {},
   "outputs": [
    {
     "data": {
      "text/plain": [
       "class\n",
       "1        108\n",
       "2        108\n",
       "3        108\n",
       "dtype: int64"
      ]
     },
     "execution_count": 102,
     "metadata": {},
     "output_type": "execute_result"
    }
   ],
   "source": [
    "y_train.value_counts()"
   ]
  },
  {
   "cell_type": "code",
   "execution_count": 41,
   "id": "d1edd944",
   "metadata": {},
   "outputs": [],
   "source": [
    "mu = X_train.mean()\n",
    "std = X_train.std()"
   ]
  },
  {
   "cell_type": "code",
   "execution_count": 42,
   "id": "fb3ed76f",
   "metadata": {},
   "outputs": [],
   "source": [
    "X_train = (X_train-mu)/std\n",
    "X_test = (X_test-mu)/std\n",
    "X_val = (X_val-mu)/std"
   ]
  },
  {
   "cell_type": "code",
   "execution_count": 44,
   "id": "045a4f07",
   "metadata": {},
   "outputs": [],
   "source": [
    "y_train = y_train.values[:,0]\n",
    "y_test = y_test.values[:,0]\n",
    "y_val = y_val.values[:,0]"
   ]
  },
  {
   "cell_type": "code",
   "execution_count": 45,
   "id": "a2a84d6b",
   "metadata": {},
   "outputs": [],
   "source": [
    "# Applying the KNN Algorithm"
   ]
  },
  {
   "cell_type": "code",
   "execution_count": null,
   "id": "f34f4fc3",
   "metadata": {},
   "outputs": [],
   "source": [
    "# Step 1  =  Get the query data"
   ]
  },
  {
   "cell_type": "code",
   "execution_count": 48,
   "id": "74182382",
   "metadata": {},
   "outputs": [],
   "source": [
    "query = X_val.values[50]"
   ]
  },
  {
   "cell_type": "code",
   "execution_count": 49,
   "id": "dd1b0891",
   "metadata": {},
   "outputs": [
    {
     "data": {
      "text/plain": [
       "array([ 0.72980249,  1.40175338, -0.20036508, -0.05764445,  0.30351698,\n",
       "       -0.41988199,  0.32609938])"
      ]
     },
     "execution_count": 49,
     "metadata": {},
     "output_type": "execute_result"
    }
   ],
   "source": [
    "query"
   ]
  },
  {
   "cell_type": "code",
   "execution_count": 50,
   "id": "d18c3b3c",
   "metadata": {},
   "outputs": [],
   "source": [
    "# Step 2  = find the Euclidean Distance from all points of the query point"
   ]
  },
  {
   "cell_type": "code",
   "execution_count": 55,
   "id": "01818a3e",
   "metadata": {},
   "outputs": [],
   "source": [
    "dist = np.sqrt(np.sum((X_train-query)**2, axis = 1))"
   ]
  },
  {
   "cell_type": "code",
   "execution_count": 57,
   "id": "73100d56",
   "metadata": {},
   "outputs": [
    {
     "data": {
      "text/plain": [
       "(324,)"
      ]
     },
     "execution_count": 57,
     "metadata": {},
     "output_type": "execute_result"
    }
   ],
   "source": [
    "dist.shape"
   ]
  },
  {
   "cell_type": "code",
   "execution_count": 58,
   "id": "87b41dde",
   "metadata": {},
   "outputs": [],
   "source": [
    "# Step 3 = Assign class corresponding to the Euclidean distances"
   ]
  },
  {
   "cell_type": "code",
   "execution_count": 59,
   "id": "23e78062",
   "metadata": {},
   "outputs": [],
   "source": [
    "distances = [(dist[i],y_train[i]) for i in range(len(dist))]"
   ]
  },
  {
   "cell_type": "code",
   "execution_count": 60,
   "id": "63cb474a",
   "metadata": {},
   "outputs": [
    {
     "data": {
      "text/plain": [
       "[(2.2559766896838536, 3),\n",
       " (1.841991932508719, 1),\n",
       " (2.8303068624011614, 1),\n",
       " (2.3292820597019332, 3),\n",
       " (2.50697062955386, 3),\n",
       " (3.2365994681327184, 2),\n",
       " (1.1757516236595675, 2),\n",
       " (0.8181813763392215, 1),\n",
       " (1.7561784010616996, 1),\n",
       " (3.5656411998939554, 2),\n",
       " (2.5899284483932346, 3),\n",
       " (2.9061102804358905, 2),\n",
       " (2.67694867005069, 1),\n",
       " (2.8493011593251465, 3),\n",
       " (2.5358383079728593, 1),\n",
       " (2.830782858369472, 3),\n",
       " (3.039281737610281, 3),\n",
       " (2.8848489409874616, 2),\n",
       " (4.218154308333792, 2),\n",
       " (2.649872362732713, 1),\n",
       " (2.8276850760815915, 3),\n",
       " (2.4131727545851236, 2),\n",
       " (3.775838254847791, 2),\n",
       " (2.024448116895419, 3),\n",
       " (2.8731507158660756, 1),\n",
       " (1.6180446300787865, 3),\n",
       " (1.5800197475080873, 1),\n",
       " (2.732897212201934, 3),\n",
       " (2.4480134512181455, 3),\n",
       " (5.45293897027138, 2),\n",
       " (1.6480632053667366, 1),\n",
       " (1.6786938301983334, 2),\n",
       " (1.2575015885475342, 1),\n",
       " (2.002367144463457, 3),\n",
       " (10.209286056689782, 2),\n",
       " (3.8805059254080243, 2),\n",
       " (4.2243572015146285, 2),\n",
       " (2.6624830556170163, 1),\n",
       " (1.3848067718934542, 2),\n",
       " (0.9136758293014527, 2),\n",
       " (2.761563940173862, 2),\n",
       " (2.776898430762811, 2),\n",
       " (8.632898091218024, 2),\n",
       " (1.9565552246653617, 3),\n",
       " (2.372889778210774, 2),\n",
       " (1.7296560663897096, 3),\n",
       " (2.280944402423973, 3),\n",
       " (2.603650977128412, 1),\n",
       " (12.929381991049684, 2),\n",
       " (1.3645572550878247, 1),\n",
       " (3.6250064924682257, 3),\n",
       " (9.606623870492259, 2),\n",
       " (4.328719344734937, 2),\n",
       " (3.2457403608276283, 2),\n",
       " (2.1833589788065058, 3),\n",
       " (3.7297599490534896, 2),\n",
       " (2.5676230819497876, 2),\n",
       " (2.149534854511957, 3),\n",
       " (2.0313915070271915, 3),\n",
       " (3.4430830058567627, 2),\n",
       " (2.5306125488589153, 3),\n",
       " (2.0423571054069956, 2),\n",
       " (1.4752429111898122, 1),\n",
       " (1.8346506647944982, 3),\n",
       " (2.0918218174439396, 1),\n",
       " (9.806936377726545, 2),\n",
       " (1.9947551783540456, 2),\n",
       " (3.057906113466678, 2),\n",
       " (1.895786605680722, 2),\n",
       " (3.4254697169863073, 2),\n",
       " (3.336489779584515, 3),\n",
       " (1.132758478833702, 1),\n",
       " (2.2656030539334107, 3),\n",
       " (3.2771118377906827, 2),\n",
       " (2.582881716554159, 1),\n",
       " (2.33193848127795, 3),\n",
       " (2.067101187039803, 3),\n",
       " (6.0414276753997695, 2),\n",
       " (1.3012521614509642, 1),\n",
       " (2.046259133273546, 3),\n",
       " (3.6108499603368114, 3),\n",
       " (2.25946441432443, 3),\n",
       " (1.5212673447520226, 1),\n",
       " (2.035569187739442, 2),\n",
       " (2.335970646806932, 1),\n",
       " (2.2692094176155497, 3),\n",
       " (1.626963126288825, 2),\n",
       " (2.216378833243569, 3),\n",
       " (2.6009949488419988, 2),\n",
       " (1.4717515808635901, 1),\n",
       " (2.2147029547398027, 3),\n",
       " (2.6803845170888136, 2),\n",
       " (2.4912461532036887, 3),\n",
       " (1.5631622268944043, 2),\n",
       " (2.011195739863496, 2),\n",
       " (2.569873767037293, 2),\n",
       " (3.4790050983772787, 2),\n",
       " (2.225542799612358, 2),\n",
       " (1.5512394853467018, 1),\n",
       " (1.7199987328096562, 1),\n",
       " (2.4398992520262044, 3),\n",
       " (5.700950026762322, 2),\n",
       " (2.2367509338788154, 2),\n",
       " (7.001426892357456, 2),\n",
       " (2.709882250374925, 3),\n",
       " (2.877489827991928, 3),\n",
       " (2.419492245131632, 3),\n",
       " (2.4634938999126703, 1),\n",
       " (2.193526436298768, 3),\n",
       " (6.477697816229795, 2),\n",
       " (2.8625106057912704, 1),\n",
       " (2.2464515402770906, 3),\n",
       " (2.6214353932641243, 2),\n",
       " (2.7892164592682143, 2),\n",
       " (1.5378028335416727, 2),\n",
       " (2.874569342732474, 3),\n",
       " (1.4011416280478526, 2),\n",
       " (4.630756975762994, 2),\n",
       " (3.0845038636963795, 2),\n",
       " (3.2551221674289454, 3),\n",
       " (2.0986322336742274, 3),\n",
       " (1.0363419633987905, 1),\n",
       " (2.236721350689461, 3),\n",
       " (3.8640392879951313, 2),\n",
       " (3.127990072487648, 3),\n",
       " (2.5232031828916335, 3),\n",
       " (3.4694732027988144, 2),\n",
       " (1.9635277814575864, 3),\n",
       " (2.889237397222822, 3),\n",
       " (1.6219760179216098, 1),\n",
       " (2.7829695469310387, 1),\n",
       " (3.475989299965479, 3),\n",
       " (1.177401154514056, 1),\n",
       " (5.09322923487715, 2),\n",
       " (3.4120703804854444, 3),\n",
       " (1.0587309217041097, 1),\n",
       " (3.2751884208863618, 2),\n",
       " (3.4427673735791915, 3),\n",
       " (3.1382720065680587, 3),\n",
       " (1.5852603357936026, 1),\n",
       " (2.00891320043403, 3),\n",
       " (2.263837087673477, 2),\n",
       " (3.1265837470491578, 2),\n",
       " (2.598330041721205, 2),\n",
       " (2.6879470921451394, 2),\n",
       " (4.29703166389872, 2),\n",
       " (1.763220285478058, 3),\n",
       " (1.307530694563298, 1),\n",
       " (2.121735368544247, 2),\n",
       " (2.231366863225068, 3),\n",
       " (1.2570450691508765, 1),\n",
       " (2.998246203168678, 2),\n",
       " (1.0981351830356714, 2),\n",
       " (3.529888455351951, 2),\n",
       " (3.9550366332315434, 2),\n",
       " (2.626471808438602, 2),\n",
       " (2.456133645172754, 2),\n",
       " (2.4923988520180083, 3),\n",
       " (3.4210445136358327, 3),\n",
       " (2.396344300936065, 3),\n",
       " (2.8762696690812657, 3),\n",
       " (1.7808282659730197, 1),\n",
       " (2.005693961576394, 2),\n",
       " (2.237644747011288, 1),\n",
       " (2.8971361775177855, 2),\n",
       " (2.4225030425368894, 3),\n",
       " (3.8184370867321342, 2),\n",
       " (2.6792247361061174, 3),\n",
       " (1.0346902920069512, 1),\n",
       " (3.685380699672758, 3),\n",
       " (2.657301328782861, 1),\n",
       " (3.5127396555474717, 3),\n",
       " (3.2525741259334855, 2),\n",
       " (3.481105599023854, 3),\n",
       " (1.1779800146127726, 1),\n",
       " (3.1140165691249853, 3),\n",
       " (2.3521427819758856, 3),\n",
       " (0.954242567459812, 1),\n",
       " (3.2798909641288576, 2),\n",
       " (1.0091009271686373, 2),\n",
       " (2.7370474950355947, 2),\n",
       " (2.4229381201097064, 2),\n",
       " (2.9323428358232073, 3),\n",
       " (2.1028976791141782, 2),\n",
       " (2.6134080127720067, 3),\n",
       " (1.1287603215261586, 1),\n",
       " (3.8437191201865044, 2),\n",
       " (17.20797291094008, 2),\n",
       " (2.035609401417198, 3),\n",
       " (2.2303280373575385, 3),\n",
       " (4.381033602771438, 2),\n",
       " (2.665223943984259, 2),\n",
       " (3.375212323106306, 2),\n",
       " (3.316655213448147, 2),\n",
       " (4.314680046322217, 2),\n",
       " (2.99503324903859, 2),\n",
       " (2.3902043967257005, 3),\n",
       " (3.5450082612136455, 3),\n",
       " (2.219348220637968, 3),\n",
       " (2.4007029508981654, 3),\n",
       " (3.1675909707953087, 3),\n",
       " (1.1688311916389071, 1),\n",
       " (1.6687713708886984, 2),\n",
       " (1.5897346555348388, 2),\n",
       " (2.0907064473989787, 3),\n",
       " (3.329610427274758, 1),\n",
       " (3.7189342336480715, 3),\n",
       " (1.3993753606823711, 2),\n",
       " (2.528051889919324, 3),\n",
       " (1.5760712859744095, 2),\n",
       " (1.5575572624816199, 1),\n",
       " (1.6234363385371704, 2),\n",
       " (0.9370210037510494, 2),\n",
       " (1.2981330836148806, 2),\n",
       " (1.0478488681902816, 1),\n",
       " (3.549252665439914, 3),\n",
       " (2.82199818731348, 3),\n",
       " (2.475842947407797, 3),\n",
       " (3.16755268584173, 3),\n",
       " (3.1550658800417284, 3),\n",
       " (2.00396280584718, 3),\n",
       " (6.499296343837128, 2),\n",
       " (4.753316655970726, 2),\n",
       " (3.0584158958123293, 3),\n",
       " (2.4247759718860684, 2),\n",
       " (1.6280696873595017, 2),\n",
       " (0.9726382413584113, 1),\n",
       " (1.9044051859613538, 3),\n",
       " (1.4224631657261073, 1),\n",
       " (1.872884124598405, 1),\n",
       " (2.608951919213303, 3),\n",
       " (2.384078334930148, 3),\n",
       " (2.7374508177245076, 2),\n",
       " (2.4578034108100644, 3),\n",
       " (1.1724752308699373, 2),\n",
       " (2.3051713398247062, 3),\n",
       " (3.8299523335515167, 2),\n",
       " (11.964637050206226, 2),\n",
       " (2.5489769971374248, 1),\n",
       " (1.8383000819404878, 1),\n",
       " (2.04879495747884, 3),\n",
       " (2.930352267635627, 2),\n",
       " (1.4800438611929534, 2),\n",
       " (2.6725515922754544, 1),\n",
       " (2.11187738264667, 3),\n",
       " (2.758752827952177, 3),\n",
       " (2.8554600327924526, 3),\n",
       " (2.950057484768126, 3),\n",
       " (2.3486448726420157, 3),\n",
       " (1.8065560292005711, 3),\n",
       " (3.135844937057217, 3),\n",
       " (3.296358181642915, 2),\n",
       " (2.4475404708384803, 2),\n",
       " (4.388414816020846, 2),\n",
       " (1.887234719621693, 3),\n",
       " (2.0346421771935947, 3),\n",
       " (2.4935810062832515, 2),\n",
       " (1.2727161976805348, 1),\n",
       " (1.8336183861843443, 3),\n",
       " (2.633848575450722, 1),\n",
       " (2.434279833472432, 3),\n",
       " (3.469943638255836, 2),\n",
       " (3.3579287723894926, 3),\n",
       " (2.5356219884926228, 3),\n",
       " (1.3230834835893281, 1),\n",
       " (1.583816589617815, 1),\n",
       " (2.654031763630812, 1),\n",
       " (1.7866675758408697, 1),\n",
       " (2.6676245259872196, 1),\n",
       " (1.4594399498712696, 1),\n",
       " (2.889393469945401, 1),\n",
       " (2.5523019481994584, 1),\n",
       " (2.539749792982937, 1),\n",
       " (3.2905944288685967, 1),\n",
       " (2.7929367754776453, 1),\n",
       " (1.5952970007749077, 1),\n",
       " (1.0211140368934783, 1),\n",
       " (2.623937059803576, 1),\n",
       " (1.9486588570632986, 1),\n",
       " (2.0888874440099956, 1),\n",
       " (1.6683519096967245, 1),\n",
       " (2.675321512906102, 1),\n",
       " (2.7553151678834893, 1),\n",
       " (1.7855584998164111, 1),\n",
       " (2.8062908866957006, 1),\n",
       " (2.6510821466434344, 1),\n",
       " (2.7978710320930946, 1),\n",
       " (0.8775680488124441, 1),\n",
       " (1.8079512483043194, 1),\n",
       " (2.6566920365357287, 1),\n",
       " (2.4645661779201338, 1),\n",
       " (1.4062879325989182, 1),\n",
       " (1.8065881425317, 1),\n",
       " (1.4685492098607158, 1),\n",
       " (1.1086242920783231, 1),\n",
       " (1.6199793738288786, 1),\n",
       " (1.4847784797577943, 1),\n",
       " (1.8409436624179267, 1),\n",
       " (2.1752798684996852, 1),\n",
       " (0.8386628447997396, 1),\n",
       " (2.688398008647374, 1),\n",
       " (1.2589730091758298, 1),\n",
       " (1.586507673505334, 1),\n",
       " (3.329718183874934, 1),\n",
       " (2.2005190952758853, 1),\n",
       " (1.6220895179148382, 1),\n",
       " (2.66868573900118, 1),\n",
       " (2.7417701498048834, 1),\n",
       " (1.133647427905981, 1),\n",
       " (2.674255265362616, 1),\n",
       " (2.633421650095181, 1),\n",
       " (1.446973808067696, 1),\n",
       " (1.4313053390209356, 1),\n",
       " (1.464929593655131, 1),\n",
       " (1.762312084046431, 1),\n",
       " (2.659128305332465, 1),\n",
       " (0.9740735290709529, 1),\n",
       " (1.1366731616558614, 1),\n",
       " (1.951515296325449, 1),\n",
       " (3.1811448337518224, 3),\n",
       " (1.9020865714717676, 3),\n",
       " (2.9321490570493762, 3),\n",
       " (2.269997607768239, 3),\n",
       " (2.2025456178186427, 3)]"
      ]
     },
     "execution_count": 60,
     "metadata": {},
     "output_type": "execute_result"
    }
   ],
   "source": [
    "distances"
   ]
  },
  {
   "cell_type": "code",
   "execution_count": 64,
   "id": "94f63cbd",
   "metadata": {},
   "outputs": [],
   "source": [
    "# Step 4 = Sort the distances and find the top 3 for K-NN ; K=5"
   ]
  },
  {
   "cell_type": "code",
   "execution_count": 65,
   "id": "ec0ee18f",
   "metadata": {},
   "outputs": [
    {
     "data": {
      "text/plain": [
       "[(0.8181813763392215, 1),\n",
       " (0.8386628447997396, 1),\n",
       " (0.8775680488124441, 1),\n",
       " (0.9136758293014527, 2),\n",
       " (0.9370210037510494, 2),\n",
       " (0.954242567459812, 1),\n",
       " (0.9726382413584113, 1),\n",
       " (0.9740735290709529, 1),\n",
       " (1.0091009271686373, 2),\n",
       " (1.0211140368934783, 1),\n",
       " (1.0346902920069512, 1),\n",
       " (1.0363419633987905, 1),\n",
       " (1.0478488681902816, 1),\n",
       " (1.0587309217041097, 1),\n",
       " (1.0981351830356714, 2),\n",
       " (1.1086242920783231, 1),\n",
       " (1.1287603215261586, 1),\n",
       " (1.132758478833702, 1),\n",
       " (1.133647427905981, 1),\n",
       " (1.1366731616558614, 1),\n",
       " (1.1688311916389071, 1),\n",
       " (1.1724752308699373, 2),\n",
       " (1.1757516236595675, 2),\n",
       " (1.177401154514056, 1),\n",
       " (1.1779800146127726, 1),\n",
       " (1.2570450691508765, 1),\n",
       " (1.2575015885475342, 1),\n",
       " (1.2589730091758298, 1),\n",
       " (1.2727161976805348, 1),\n",
       " (1.2981330836148806, 2),\n",
       " (1.3012521614509642, 1),\n",
       " (1.307530694563298, 1),\n",
       " (1.3230834835893281, 1),\n",
       " (1.3645572550878247, 1),\n",
       " (1.3848067718934542, 2),\n",
       " (1.3993753606823711, 2),\n",
       " (1.4011416280478526, 2),\n",
       " (1.4062879325989182, 1),\n",
       " (1.4224631657261073, 1),\n",
       " (1.4313053390209356, 1),\n",
       " (1.446973808067696, 1),\n",
       " (1.4594399498712696, 1),\n",
       " (1.464929593655131, 1),\n",
       " (1.4685492098607158, 1),\n",
       " (1.4717515808635901, 1),\n",
       " (1.4752429111898122, 1),\n",
       " (1.4800438611929534, 2),\n",
       " (1.4847784797577943, 1),\n",
       " (1.5212673447520226, 1),\n",
       " (1.5378028335416727, 2),\n",
       " (1.5512394853467018, 1),\n",
       " (1.5575572624816199, 1),\n",
       " (1.5631622268944043, 2),\n",
       " (1.5760712859744095, 2),\n",
       " (1.5800197475080873, 1),\n",
       " (1.583816589617815, 1),\n",
       " (1.5852603357936026, 1),\n",
       " (1.586507673505334, 1),\n",
       " (1.5897346555348388, 2),\n",
       " (1.5952970007749077, 1),\n",
       " (1.6180446300787865, 3),\n",
       " (1.6199793738288786, 1),\n",
       " (1.6219760179216098, 1),\n",
       " (1.6220895179148382, 1),\n",
       " (1.6234363385371704, 2),\n",
       " (1.626963126288825, 2),\n",
       " (1.6280696873595017, 2),\n",
       " (1.6480632053667366, 1),\n",
       " (1.6683519096967245, 1),\n",
       " (1.6687713708886984, 2),\n",
       " (1.6786938301983334, 2),\n",
       " (1.7199987328096562, 1),\n",
       " (1.7296560663897096, 3),\n",
       " (1.7561784010616996, 1),\n",
       " (1.762312084046431, 1),\n",
       " (1.763220285478058, 3),\n",
       " (1.7808282659730197, 1),\n",
       " (1.7855584998164111, 1),\n",
       " (1.7866675758408697, 1),\n",
       " (1.8065560292005711, 3),\n",
       " (1.8065881425317, 1),\n",
       " (1.8079512483043194, 1),\n",
       " (1.8336183861843443, 3),\n",
       " (1.8346506647944982, 3),\n",
       " (1.8383000819404878, 1),\n",
       " (1.8409436624179267, 1),\n",
       " (1.841991932508719, 1),\n",
       " (1.872884124598405, 1),\n",
       " (1.887234719621693, 3),\n",
       " (1.895786605680722, 2),\n",
       " (1.9020865714717676, 3),\n",
       " (1.9044051859613538, 3),\n",
       " (1.9486588570632986, 1),\n",
       " (1.951515296325449, 1),\n",
       " (1.9565552246653617, 3),\n",
       " (1.9635277814575864, 3),\n",
       " (1.9947551783540456, 2),\n",
       " (2.002367144463457, 3),\n",
       " (2.00396280584718, 3),\n",
       " (2.005693961576394, 2),\n",
       " (2.00891320043403, 3),\n",
       " (2.011195739863496, 2),\n",
       " (2.024448116895419, 3),\n",
       " (2.0313915070271915, 3),\n",
       " (2.0346421771935947, 3),\n",
       " (2.035569187739442, 2),\n",
       " (2.035609401417198, 3),\n",
       " (2.0423571054069956, 2),\n",
       " (2.046259133273546, 3),\n",
       " (2.04879495747884, 3),\n",
       " (2.067101187039803, 3),\n",
       " (2.0888874440099956, 1),\n",
       " (2.0907064473989787, 3),\n",
       " (2.0918218174439396, 1),\n",
       " (2.0986322336742274, 3),\n",
       " (2.1028976791141782, 2),\n",
       " (2.11187738264667, 3),\n",
       " (2.121735368544247, 2),\n",
       " (2.149534854511957, 3),\n",
       " (2.1752798684996852, 1),\n",
       " (2.1833589788065058, 3),\n",
       " (2.193526436298768, 3),\n",
       " (2.2005190952758853, 1),\n",
       " (2.2025456178186427, 3),\n",
       " (2.2147029547398027, 3),\n",
       " (2.216378833243569, 3),\n",
       " (2.219348220637968, 3),\n",
       " (2.225542799612358, 2),\n",
       " (2.2303280373575385, 3),\n",
       " (2.231366863225068, 3),\n",
       " (2.236721350689461, 3),\n",
       " (2.2367509338788154, 2),\n",
       " (2.237644747011288, 1),\n",
       " (2.2464515402770906, 3),\n",
       " (2.2559766896838536, 3),\n",
       " (2.25946441432443, 3),\n",
       " (2.263837087673477, 2),\n",
       " (2.2656030539334107, 3),\n",
       " (2.2692094176155497, 3),\n",
       " (2.269997607768239, 3),\n",
       " (2.280944402423973, 3),\n",
       " (2.3051713398247062, 3),\n",
       " (2.3292820597019332, 3),\n",
       " (2.33193848127795, 3),\n",
       " (2.335970646806932, 1),\n",
       " (2.3486448726420157, 3),\n",
       " (2.3521427819758856, 3),\n",
       " (2.372889778210774, 2),\n",
       " (2.384078334930148, 3),\n",
       " (2.3902043967257005, 3),\n",
       " (2.396344300936065, 3),\n",
       " (2.4007029508981654, 3),\n",
       " (2.4131727545851236, 2),\n",
       " (2.419492245131632, 3),\n",
       " (2.4225030425368894, 3),\n",
       " (2.4229381201097064, 2),\n",
       " (2.4247759718860684, 2),\n",
       " (2.434279833472432, 3),\n",
       " (2.4398992520262044, 3),\n",
       " (2.4475404708384803, 2),\n",
       " (2.4480134512181455, 3),\n",
       " (2.456133645172754, 2),\n",
       " (2.4578034108100644, 3),\n",
       " (2.4634938999126703, 1),\n",
       " (2.4645661779201338, 1),\n",
       " (2.475842947407797, 3),\n",
       " (2.4912461532036887, 3),\n",
       " (2.4923988520180083, 3),\n",
       " (2.4935810062832515, 2),\n",
       " (2.50697062955386, 3),\n",
       " (2.5232031828916335, 3),\n",
       " (2.528051889919324, 3),\n",
       " (2.5306125488589153, 3),\n",
       " (2.5356219884926228, 3),\n",
       " (2.5358383079728593, 1),\n",
       " (2.539749792982937, 1),\n",
       " (2.5489769971374248, 1),\n",
       " (2.5523019481994584, 1),\n",
       " (2.5676230819497876, 2),\n",
       " (2.569873767037293, 2),\n",
       " (2.582881716554159, 1),\n",
       " (2.5899284483932346, 3),\n",
       " (2.598330041721205, 2),\n",
       " (2.6009949488419988, 2),\n",
       " (2.603650977128412, 1),\n",
       " (2.608951919213303, 3),\n",
       " (2.6134080127720067, 3),\n",
       " (2.6214353932641243, 2),\n",
       " (2.623937059803576, 1),\n",
       " (2.626471808438602, 2),\n",
       " (2.633421650095181, 1),\n",
       " (2.633848575450722, 1),\n",
       " (2.649872362732713, 1),\n",
       " (2.6510821466434344, 1),\n",
       " (2.654031763630812, 1),\n",
       " (2.6566920365357287, 1),\n",
       " (2.657301328782861, 1),\n",
       " (2.659128305332465, 1),\n",
       " (2.6624830556170163, 1),\n",
       " (2.665223943984259, 2),\n",
       " (2.6676245259872196, 1),\n",
       " (2.66868573900118, 1),\n",
       " (2.6725515922754544, 1),\n",
       " (2.674255265362616, 1),\n",
       " (2.675321512906102, 1),\n",
       " (2.67694867005069, 1),\n",
       " (2.6792247361061174, 3),\n",
       " (2.6803845170888136, 2),\n",
       " (2.6879470921451394, 2),\n",
       " (2.688398008647374, 1),\n",
       " (2.709882250374925, 3),\n",
       " (2.732897212201934, 3),\n",
       " (2.7370474950355947, 2),\n",
       " (2.7374508177245076, 2),\n",
       " (2.7417701498048834, 1),\n",
       " (2.7553151678834893, 1),\n",
       " (2.758752827952177, 3),\n",
       " (2.761563940173862, 2),\n",
       " (2.776898430762811, 2),\n",
       " (2.7829695469310387, 1),\n",
       " (2.7892164592682143, 2),\n",
       " (2.7929367754776453, 1),\n",
       " (2.7978710320930946, 1),\n",
       " (2.8062908866957006, 1),\n",
       " (2.82199818731348, 3),\n",
       " (2.8276850760815915, 3),\n",
       " (2.8303068624011614, 1),\n",
       " (2.830782858369472, 3),\n",
       " (2.8493011593251465, 3),\n",
       " (2.8554600327924526, 3),\n",
       " (2.8625106057912704, 1),\n",
       " (2.8731507158660756, 1),\n",
       " (2.874569342732474, 3),\n",
       " (2.8762696690812657, 3),\n",
       " (2.877489827991928, 3),\n",
       " (2.8848489409874616, 2),\n",
       " (2.889237397222822, 3),\n",
       " (2.889393469945401, 1),\n",
       " (2.8971361775177855, 2),\n",
       " (2.9061102804358905, 2),\n",
       " (2.930352267635627, 2),\n",
       " (2.9321490570493762, 3),\n",
       " (2.9323428358232073, 3),\n",
       " (2.950057484768126, 3),\n",
       " (2.99503324903859, 2),\n",
       " (2.998246203168678, 2),\n",
       " (3.039281737610281, 3),\n",
       " (3.057906113466678, 2),\n",
       " (3.0584158958123293, 3),\n",
       " (3.0845038636963795, 2),\n",
       " (3.1140165691249853, 3),\n",
       " (3.1265837470491578, 2),\n",
       " (3.127990072487648, 3),\n",
       " (3.135844937057217, 3),\n",
       " (3.1382720065680587, 3),\n",
       " (3.1550658800417284, 3),\n",
       " (3.16755268584173, 3),\n",
       " (3.1675909707953087, 3),\n",
       " (3.1811448337518224, 3),\n",
       " (3.2365994681327184, 2),\n",
       " (3.2457403608276283, 2),\n",
       " (3.2525741259334855, 2),\n",
       " (3.2551221674289454, 3),\n",
       " (3.2751884208863618, 2),\n",
       " (3.2771118377906827, 2),\n",
       " (3.2798909641288576, 2),\n",
       " (3.2905944288685967, 1),\n",
       " (3.296358181642915, 2),\n",
       " (3.316655213448147, 2),\n",
       " (3.329610427274758, 1),\n",
       " (3.329718183874934, 1),\n",
       " (3.336489779584515, 3),\n",
       " (3.3579287723894926, 3),\n",
       " (3.375212323106306, 2),\n",
       " (3.4120703804854444, 3),\n",
       " (3.4210445136358327, 3),\n",
       " (3.4254697169863073, 2),\n",
       " (3.4427673735791915, 3),\n",
       " (3.4430830058567627, 2),\n",
       " (3.4694732027988144, 2),\n",
       " (3.469943638255836, 2),\n",
       " (3.475989299965479, 3),\n",
       " (3.4790050983772787, 2),\n",
       " (3.481105599023854, 3),\n",
       " (3.5127396555474717, 3),\n",
       " (3.529888455351951, 2),\n",
       " (3.5450082612136455, 3),\n",
       " (3.549252665439914, 3),\n",
       " (3.5656411998939554, 2),\n",
       " (3.6108499603368114, 3),\n",
       " (3.6250064924682257, 3),\n",
       " (3.685380699672758, 3),\n",
       " (3.7189342336480715, 3),\n",
       " (3.7297599490534896, 2),\n",
       " (3.775838254847791, 2),\n",
       " (3.8184370867321342, 2),\n",
       " (3.8299523335515167, 2),\n",
       " (3.8437191201865044, 2),\n",
       " (3.8640392879951313, 2),\n",
       " (3.8805059254080243, 2),\n",
       " (3.9550366332315434, 2),\n",
       " (4.218154308333792, 2),\n",
       " (4.2243572015146285, 2),\n",
       " (4.29703166389872, 2),\n",
       " (4.314680046322217, 2),\n",
       " (4.328719344734937, 2),\n",
       " (4.381033602771438, 2),\n",
       " (4.388414816020846, 2),\n",
       " (4.630756975762994, 2),\n",
       " (4.753316655970726, 2),\n",
       " (5.09322923487715, 2),\n",
       " (5.45293897027138, 2),\n",
       " (5.700950026762322, 2),\n",
       " (6.0414276753997695, 2),\n",
       " (6.477697816229795, 2),\n",
       " (6.499296343837128, 2),\n",
       " (7.001426892357456, 2),\n",
       " (8.632898091218024, 2),\n",
       " (9.606623870492259, 2),\n",
       " (9.806936377726545, 2),\n",
       " (10.209286056689782, 2),\n",
       " (11.964637050206226, 2),\n",
       " (12.929381991049684, 2),\n",
       " (17.20797291094008, 2)]"
      ]
     },
     "execution_count": 65,
     "metadata": {},
     "output_type": "execute_result"
    }
   ],
   "source": [
    "sorted(distances)"
   ]
  },
  {
   "cell_type": "code",
   "execution_count": 66,
   "id": "ba1c6d64",
   "metadata": {},
   "outputs": [],
   "source": [
    "# Let K =5"
   ]
  },
  {
   "cell_type": "code",
   "execution_count": 69,
   "id": "ad2cc8db",
   "metadata": {},
   "outputs": [],
   "source": [
    "K=5\n",
    "distances = np.array(sorted(distances)[:K])"
   ]
  },
  {
   "cell_type": "code",
   "execution_count": 70,
   "id": "b425fc9a",
   "metadata": {},
   "outputs": [
    {
     "data": {
      "text/plain": [
       "array([[0.81818138, 1.        ],\n",
       "       [0.83866284, 1.        ],\n",
       "       [0.87756805, 1.        ],\n",
       "       [0.91367583, 2.        ],\n",
       "       [0.937021  , 2.        ]])"
      ]
     },
     "execution_count": 70,
     "metadata": {},
     "output_type": "execute_result"
    }
   ],
   "source": [
    "distances"
   ]
  },
  {
   "cell_type": "code",
   "execution_count": 73,
   "id": "122875b7",
   "metadata": {},
   "outputs": [],
   "source": [
    "class_counts = np.unique(distances[:,1], return_counts=True)"
   ]
  },
  {
   "cell_type": "code",
   "execution_count": 76,
   "id": "ac70c03e",
   "metadata": {},
   "outputs": [
    {
     "data": {
      "text/plain": [
       "(array([1., 2.]), array([3, 2]))"
      ]
     },
     "execution_count": 76,
     "metadata": {},
     "output_type": "execute_result"
    }
   ],
   "source": [
    "class_counts"
   ]
  },
  {
   "cell_type": "code",
   "execution_count": 77,
   "id": "27862713",
   "metadata": {},
   "outputs": [],
   "source": [
    "idx = np.argmax(class_counts[1])"
   ]
  },
  {
   "cell_type": "code",
   "execution_count": 78,
   "id": "9ae84f46",
   "metadata": {},
   "outputs": [
    {
     "data": {
      "text/plain": [
       "1.0"
      ]
     },
     "execution_count": 78,
     "metadata": {},
     "output_type": "execute_result"
    }
   ],
   "source": [
    "class_counts[0][idx]"
   ]
  },
  {
   "cell_type": "code",
   "execution_count": 79,
   "id": "b0e11670",
   "metadata": {},
   "outputs": [],
   "source": [
    "###Evaluation of KNN"
   ]
  },
  {
   "cell_type": "code",
   "execution_count": 80,
   "id": "70a5a1ee",
   "metadata": {},
   "outputs": [],
   "source": [
    "#1. Accuracy\n",
    "#2. Confusion Matrix"
   ]
  },
  {
   "cell_type": "code",
   "execution_count": 81,
   "id": "1f49dbb1",
   "metadata": {},
   "outputs": [],
   "source": [
    "from sklearn.metrics import confusion_matrix"
   ]
  },
  {
   "cell_type": "code",
   "execution_count": 84,
   "id": "1a046fec",
   "metadata": {},
   "outputs": [],
   "source": [
    "y_pred = []\n",
    "X_test_values = X_test.values"
   ]
  },
  {
   "cell_type": "code",
   "execution_count": 86,
   "id": "5e4f39ff",
   "metadata": {},
   "outputs": [],
   "source": [
    "# Lets create the KNN Method"
   ]
  },
  {
   "cell_type": "code",
   "execution_count": 87,
   "id": "bca49c93",
   "metadata": {},
   "outputs": [],
   "source": [
    "def knn(X, y, queryPoint, k):\n",
    "  dist = np.sqrt(np.sum((X - queryPoint)**2, axis=1))\n",
    "  distances = [(dist[i], y[i]) for i in range(len(dist))]\n",
    "  distances = np.array(sorted(distances)[:k])\n",
    "  classes_counts = np.unique(distances[:,1], return_counts = True)\n",
    "  idx = np.argmax(classes_counts[1])\n",
    "  return classes_counts[0][idx]"
   ]
  },
  {
   "cell_type": "code",
   "execution_count": 88,
   "id": "fe15f31c",
   "metadata": {},
   "outputs": [],
   "source": [
    "for i in range(X_test.shape[0]):\n",
    "    y_pred.append(knn(X_train, y_train, X_test_values[i], 5))"
   ]
  },
  {
   "cell_type": "code",
   "execution_count": 90,
   "id": "cca2bd44",
   "metadata": {},
   "outputs": [
    {
     "data": {
      "text/plain": [
       "<sklearn.metrics._plot.confusion_matrix.ConfusionMatrixDisplay at 0x7f88943ab340>"
      ]
     },
     "execution_count": 90,
     "metadata": {},
     "output_type": "execute_result"
    },
    {
     "data": {
      "image/png": "[encoded data removed]",
      "text/plain": [
       "<Figure size 432x288 with 2 Axes>"
      ]
     },
     "metadata": {
      "needs_background": "light"
     },
     "output_type": "display_data"
    }
   ],
   "source": [
    "cm = confusion_matrix(y_test, y_pred)\n",
    "cm\n",
    "from sklearn.metrics import ConfusionMatrixDisplay\n",
    "\n",
    "ConfusionMatrixDisplay(cm).plot()"
   ]
  },
  {
   "cell_type": "code",
   "execution_count": 91,
   "id": "90522cca",
   "metadata": {},
   "outputs": [
    {
     "name": "stdout",
     "output_type": "stream",
     "text": [
      "              precision    recall  f1-score   support\n",
      "\n",
      "           1       0.65      0.81      0.72        16\n",
      "           2       0.94      0.85      0.89        39\n",
      "           3       0.88      0.88      0.88        33\n",
      "\n",
      "    accuracy                           0.85        88\n",
      "   macro avg       0.82      0.85      0.83        88\n",
      "weighted avg       0.87      0.85      0.86        88\n",
      "\n"
     ]
    }
   ],
   "source": [
    "from sklearn.metrics import classification_report\n",
    "\n",
    "print(classification_report(y_test, y_pred))"
   ]
  },
  {
   "cell_type": "markdown",
   "id": "67c470cb",
   "metadata": {},
   "source": [
    "# Implementation using SKLearn"
   ]
  },
  {
   "cell_type": "code",
   "execution_count": 115,
   "id": "c0eb4d57",
   "metadata": {},
   "outputs": [
    {
     "name": "stdout",
     "output_type": "stream",
     "text": [
      "--2024-03-14 06:39:16--  https://drive.google.com/uc?export=download&id=1ZdhRqYv-JizWV6DxO6C4R_k1kxPhmlF2\n",
      "Resolving drive.google.com... 142.250.187.206\n",
      "Connecting to drive.google.com|142.250.187.206|:443... connected.\n",
      "HTTP request sent, awaiting response... 303 See Other\n",
      "Location: https://drive.usercontent.google.com/download?id=1ZdhRqYv-JizWV6DxO6C4R_k1kxPhmlF2&export=download [following]\n",
      "--2024-03-14 06:39:16--  https://drive.usercontent.google.com/download?id=1ZdhRqYv-JizWV6DxO6C4R_k1kxPhmlF2&export=download\n",
      "Resolving drive.usercontent.google.com... 172.217.16.225\n",
      "Connecting to drive.usercontent.google.com|172.217.16.225|:443... connected.\n",
      "HTTP request sent, awaiting response... 200 OK\n",
      "Length: 14578 (14K) [application/octet-stream]\n",
      "Saving to: 'multiclass.csv'\n",
      "\n",
      "multiclass.csv      100%[===================>]  14.24K  --.-KB/s    in 0s      \n",
      "\n",
      "2024-03-14 06:39:17 (33.2 MB/s) - 'multiclass.csv' saved [14578/14578]\n",
      "\n"
     ]
    }
   ],
   "source": [
    "import pandas as pd\n",
    "import numpy as np\n",
    "\n",
    "!wget --no-check-certificate 'https://drive.google.com/uc?export=download&id=1ZdhRqYv-JizWV6DxO6C4R_k1kxPhmlF2' -O \"multiclass.csv\""
   ]
  },
  {
   "cell_type": "code",
   "execution_count": 116,
   "id": "a938a4ad",
   "metadata": {},
   "outputs": [],
   "source": [
    "df = pd.read_csv(\"multiclass.csv\")"
   ]
  },
  {
   "cell_type": "code",
   "execution_count": 117,
   "id": "035dff7f",
   "metadata": {},
   "outputs": [],
   "source": [
    "X=df[['Region', 'Fresh',    'Milk', 'Grocery',  'Frozen',   'Detergents_Paper', 'Delicassen'    ]].copy()\n",
    "y=df[['class']].copy()"
   ]
  },
  {
   "cell_type": "code",
   "execution_count": 118,
   "id": "124c5fb0",
   "metadata": {},
   "outputs": [
    {
     "name": "stdout",
     "output_type": "stream",
     "text": [
      "(247, 7) (247, 1)\n",
      "(83, 7) (83, 1)\n",
      "(110, 7) (110, 1)\n"
     ]
    }
   ],
   "source": [
    "from sklearn.model_selection import train_test_split\n",
    "import matplotlib.pyplot as plt\n",
    "\n",
    "X_train_val, X_test, y_train_val, y_test = train_test_split(X,y,test_size=0.25, random_state=42)\n",
    "\n",
    "X_train, X_val, y_train, y_val = train_test_split(X_train_val,y_train_val,test_size=0.25, random_state=42)\n",
    "\n",
    "print(X_train.shape, y_train.shape)\n",
    "print(X_val.shape, y_val.shape)\n",
    "print(X_test.shape, y_test.shape)"
   ]
  },
  {
   "cell_type": "code",
   "execution_count": 119,
   "id": "da6a1067",
   "metadata": {},
   "outputs": [
    {
     "data": {
      "text/plain": [
       "class\n",
       "1        99\n",
       "2        99\n",
       "3        99\n",
       "dtype: int64"
      ]
     },
     "execution_count": 119,
     "metadata": {},
     "output_type": "execute_result"
    }
   ],
   "source": [
    "from imblearn.over_sampling import SMOTE\n",
    "\n",
    "# Create an instance of SMOTE\n",
    "smt = SMOTE()\n",
    "\n",
    "X_sm, y_sm = smt.fit_resample(X_train, y_train)\n",
    "\n",
    "y_sm.value_counts()"
   ]
  },
  {
   "cell_type": "code",
   "execution_count": 120,
   "id": "fff27f9f",
   "metadata": {},
   "outputs": [],
   "source": [
    "from sklearn.preprocessing import StandardScaler\n",
    "\n",
    "st =  StandardScaler()\n",
    "\n",
    "X_sm = st.fit_transform(X_sm.values)\n",
    "X_val_scaled = st.transform(X_val.values)\n",
    "X_test_scaled = st.transform(X_test.values)\n",
    "\n",
    "y_sm = y_sm.values[:,0]\n",
    "y_val = y_val.values[:,0]\n",
    "y_test = y_test.values[:,0]"
   ]
  },
  {
   "cell_type": "code",
   "execution_count": 121,
   "id": "8826beda",
   "metadata": {},
   "outputs": [],
   "source": [
    "from sklearn.neighbors import KNeighborsClassifier\n",
    "import matplotlib.pyplot as plt"
   ]
  },
  {
   "cell_type": "code",
   "execution_count": 126,
   "id": "d5edff44",
   "metadata": {},
   "outputs": [
    {
     "data": {
      "text/html": [
       "<style>#sk-container-id-2 {\n",
       "  /* Definition of color scheme common for light and dark mode */\n",
       "  --sklearn-color-text: black;\n",
       "  --sklearn-color-line: gray;\n",
       "  /* Definition of color scheme for unfitted estimators */\n",
       "  --sklearn-color-unfitted-level-0: #fff5e6;\n",
       "  --sklearn-color-unfitted-level-1: #f6e4d2;\n",
       "  --sklearn-color-unfitted-level-2: #ffe0b3;\n",
       "  --sklearn-color-unfitted-level-3: chocolate;\n",
       "  /* Definition of color scheme for fitted estimators */\n",
       "  --sklearn-color-fitted-level-0: #f0f8ff;\n",
       "  --sklearn-color-fitted-level-1: #d4ebff;\n",
       "  --sklearn-color-fitted-level-2: #b3dbfd;\n",
       "  --sklearn-color-fitted-level-3: cornflowerblue;\n",
       "\n",
       "  /* Specific color for light theme */\n",
       "  --sklearn-color-text-on-default-background: var(--sg-text-color, var(--theme-code-foreground, var(--jp-content-font-color1, black)));\n",
       "  --sklearn-color-background: var(--sg-background-color, var(--theme-background, var(--jp-layout-color0, white)));\n",
       "  --sklearn-color-border-box: var(--sg-text-color, var(--theme-code-foreground, var(--jp-content-font-color1, black)));\n",
       "  --sklearn-color-icon: #696969;\n",
       "\n",
       "  @media (prefers-color-scheme: dark) {\n",
       "    /* Redefinition of color scheme for dark theme */\n",
       "    --sklearn-color-text-on-default-background: var(--sg-text-color, var(--theme-code-foreground, var(--jp-content-font-color1, white)));\n",
       "    --sklearn-color-background: var(--sg-background-color, var(--theme-background, var(--jp-layout-color0, #111)));\n",
       "    --sklearn-color-border-box: var(--sg-text-color, var(--theme-code-foreground, var(--jp-content-font-color1, white)));\n",
       "    --sklearn-color-icon: #878787;\n",
       "  }\n",
       "}\n",
       "\n",
       "#sk-container-id-2 {\n",
       "  color: var(--sklearn-color-text);\n",
       "}\n",
       "\n",
       "#sk-container-id-2 pre {\n",
       "  padding: 0;\n",
       "}\n",
       "\n",
       "#sk-container-id-2 input.sk-hidden--visually {\n",
       "  border: 0;\n",
       "  clip: rect(1px 1px 1px 1px);\n",
       "  clip: rect(1px, 1px, 1px, 1px);\n",
       "  height: 1px;\n",
       "  margin: -1px;\n",
       "  overflow: hidden;\n",
       "  padding: 0;\n",
       "  position: absolute;\n",
       "  width: 1px;\n",
       "}\n",
       "\n",
       "#sk-container-id-2 div.sk-dashed-wrapped {\n",
       "  border: 1px dashed var(--sklearn-color-line);\n",
       "  margin: 0 0.4em 0.5em 0.4em;\n",
       "  box-sizing: border-box;\n",
       "  padding-bottom: 0.4em;\n",
       "  background-color: var(--sklearn-color-background);\n",
       "}\n",
       "\n",
       "#sk-container-id-2 div.sk-container {\n",
       "  /* jupyter's `normalize.less` sets `[hidden] { display: none; }`\n",
       "     but bootstrap.min.css set `[hidden] { display: none !important; }`\n",
       "     so we also need the `!important` here to be able to override the\n",
       "     default hidden behavior on the sphinx rendered scikit-learn.org.\n",
       "     See: https://github.com/scikit-learn/scikit-learn/issues/21755 */\n",
       "  display: inline-block !important;\n",
       "  position: relative;\n",
       "}\n",
       "\n",
       "#sk-container-id-2 div.sk-text-repr-fallback {\n",
       "  display: none;\n",
       "}\n",
       "\n",
       "div.sk-parallel-item,\n",
       "div.sk-serial,\n",
       "div.sk-item {\n",
       "  /* draw centered vertical line to link estimators */\n",
       "  background-image: linear-gradient(var(--sklearn-color-text-on-default-background), var(--sklearn-color-text-on-default-background));\n",
       "  background-size: 2px 100%;\n",
       "  background-repeat: no-repeat;\n",
       "  background-position: center center;\n",
       "}\n",
       "\n",
       "/* Parallel-specific style estimator block */\n",
       "\n",
       "#sk-container-id-2 div.sk-parallel-item::after {\n",
       "  content: \"\";\n",
       "  width: 100%;\n",
       "  border-bottom: 2px solid var(--sklearn-color-text-on-default-background);\n",
       "  flex-grow: 1;\n",
       "}\n",
       "\n",
       "#sk-container-id-2 div.sk-parallel {\n",
       "  display: flex;\n",
       "  align-items: stretch;\n",
       "  justify-content: center;\n",
       "  background-color: var(--sklearn-color-background);\n",
       "  position: relative;\n",
       "}\n",
       "\n",
       "#sk-container-id-2 div.sk-parallel-item {\n",
       "  display: flex;\n",
       "  flex-direction: column;\n",
       "}\n",
       "\n",
       "#sk-container-id-2 div.sk-parallel-item:first-child::after {\n",
       "  align-self: flex-end;\n",
       "  width: 50%;\n",
       "}\n",
       "\n",
       "#sk-container-id-2 div.sk-parallel-item:last-child::after {\n",
       "  align-self: flex-start;\n",
       "  width: 50%;\n",
       "}\n",
       "\n",
       "#sk-container-id-2 div.sk-parallel-item:only-child::after {\n",
       "  width: 0;\n",
       "}\n",
       "\n",
       "/* Serial-specific style estimator block */\n",
       "\n",
       "#sk-container-id-2 div.sk-serial {\n",
       "  display: flex;\n",
       "  flex-direction: column;\n",
       "  align-items: center;\n",
       "  background-color: var(--sklearn-color-background);\n",
       "  padding-right: 1em;\n",
       "  padding-left: 1em;\n",
       "}\n",
       "\n",
       "\n",
       "/* Toggleable style: style used for estimator/Pipeline/ColumnTransformer box that is\n",
       "clickable and can be expanded/collapsed.\n",
       "- Pipeline and ColumnTransformer use this feature and define the default style\n",
       "- Estimators will overwrite some part of the style using the `sk-estimator` class\n",
       "*/\n",
       "\n",
       "/* Pipeline and ColumnTransformer style (default) */\n",
       "\n",
       "#sk-container-id-2 div.sk-toggleable {\n",
       "  /* Default theme specific background. It is overwritten whether we have a\n",
       "  specific estimator or a Pipeline/ColumnTransformer */\n",
       "  background-color: var(--sklearn-color-background);\n",
       "}\n",
       "\n",
       "/* Toggleable label */\n",
       "#sk-container-id-2 label.sk-toggleable__label {\n",
       "  cursor: pointer;\n",
       "  display: block;\n",
       "  width: 100%;\n",
       "  margin-bottom: 0;\n",
       "  padding: 0.5em;\n",
       "  box-sizing: border-box;\n",
       "  text-align: center;\n",
       "}\n",
       "\n",
       "#sk-container-id-2 label.sk-toggleable__label-arrow:before {\n",
       "  /* Arrow on the left of the label */\n",
       "  content: \"▸\";\n",
       "  float: left;\n",
       "  margin-right: 0.25em;\n",
       "  color: var(--sklearn-color-icon);\n",
       "}\n",
       "\n",
       "#sk-container-id-2 label.sk-toggleable__label-arrow:hover:before {\n",
       "  color: var(--sklearn-color-text);\n",
       "}\n",
       "\n",
       "/* Toggleable content - dropdown */\n",
       "\n",
       "#sk-container-id-2 div.sk-toggleable__content {\n",
       "  max-height: 0;\n",
       "  max-width: 0;\n",
       "  overflow: hidden;\n",
       "  text-align: left;\n",
       "  /* unfitted */\n",
       "  background-color: var(--sklearn-color-unfitted-level-0);\n",
       "}\n",
       "\n",
       "#sk-container-id-2 div.sk-toggleable__content.fitted {\n",
       "  /* fitted */\n",
       "  background-color: var(--sklearn-color-fitted-level-0);\n",
       "}\n",
       "\n",
       "#sk-container-id-2 div.sk-toggleable__content pre {\n",
       "  margin: 0.2em;\n",
       "  border-radius: 0.25em;\n",
       "  color: var(--sklearn-color-text);\n",
       "  /* unfitted */\n",
       "  background-color: var(--sklearn-color-unfitted-level-0);\n",
       "}\n",
       "\n",
       "#sk-container-id-2 div.sk-toggleable__content.fitted pre {\n",
       "  /* unfitted */\n",
       "  background-color: var(--sklearn-color-fitted-level-0);\n",
       "}\n",
       "\n",
       "#sk-container-id-2 input.sk-toggleable__control:checked~div.sk-toggleable__content {\n",
       "  /* Expand drop-down */\n",
       "  max-height: 200px;\n",
       "  max-width: 100%;\n",
       "  overflow: auto;\n",
       "}\n",
       "\n",
       "#sk-container-id-2 input.sk-toggleable__control:checked~label.sk-toggleable__label-arrow:before {\n",
       "  content: \"▾\";\n",
       "}\n",
       "\n",
       "/* Pipeline/ColumnTransformer-specific style */\n",
       "\n",
       "#sk-container-id-2 div.sk-label input.sk-toggleable__control:checked~label.sk-toggleable__label {\n",
       "  color: var(--sklearn-color-text);\n",
       "  background-color: var(--sklearn-color-unfitted-level-2);\n",
       "}\n",
       "\n",
       "#sk-container-id-2 div.sk-label.fitted input.sk-toggleable__control:checked~label.sk-toggleable__label {\n",
       "  background-color: var(--sklearn-color-fitted-level-2);\n",
       "}\n",
       "\n",
       "/* Estimator-specific style */\n",
       "\n",
       "/* Colorize estimator box */\n",
       "#sk-container-id-2 div.sk-estimator input.sk-toggleable__control:checked~label.sk-toggleable__label {\n",
       "  /* unfitted */\n",
       "  background-color: var(--sklearn-color-unfitted-level-2);\n",
       "}\n",
       "\n",
       "#sk-container-id-2 div.sk-estimator.fitted input.sk-toggleable__control:checked~label.sk-toggleable__label {\n",
       "  /* fitted */\n",
       "  background-color: var(--sklearn-color-fitted-level-2);\n",
       "}\n",
       "\n",
       "#sk-container-id-2 div.sk-label label.sk-toggleable__label,\n",
       "#sk-container-id-2 div.sk-label label {\n",
       "  /* The background is the default theme color */\n",
       "  color: var(--sklearn-color-text-on-default-background);\n",
       "}\n",
       "\n",
       "/* On hover, darken the color of the background */\n",
       "#sk-container-id-2 div.sk-label:hover label.sk-toggleable__label {\n",
       "  color: var(--sklearn-color-text);\n",
       "  background-color: var(--sklearn-color-unfitted-level-2);\n",
       "}\n",
       "\n",
       "/* Label box, darken color on hover, fitted */\n",
       "#sk-container-id-2 div.sk-label.fitted:hover label.sk-toggleable__label.fitted {\n",
       "  color: var(--sklearn-color-text);\n",
       "  background-color: var(--sklearn-color-fitted-level-2);\n",
       "}\n",
       "\n",
       "/* Estimator label */\n",
       "\n",
       "#sk-container-id-2 div.sk-label label {\n",
       "  font-family: monospace;\n",
       "  font-weight: bold;\n",
       "  display: inline-block;\n",
       "  line-height: 1.2em;\n",
       "}\n",
       "\n",
       "#sk-container-id-2 div.sk-label-container {\n",
       "  text-align: center;\n",
       "}\n",
       "\n",
       "/* Estimator-specific */\n",
       "#sk-container-id-2 div.sk-estimator {\n",
       "  font-family: monospace;\n",
       "  border: 1px dotted var(--sklearn-color-border-box);\n",
       "  border-radius: 0.25em;\n",
       "  box-sizing: border-box;\n",
       "  margin-bottom: 0.5em;\n",
       "  /* unfitted */\n",
       "  background-color: var(--sklearn-color-unfitted-level-0);\n",
       "}\n",
       "\n",
       "#sk-container-id-2 div.sk-estimator.fitted {\n",
       "  /* fitted */\n",
       "  background-color: var(--sklearn-color-fitted-level-0);\n",
       "}\n",
       "\n",
       "/* on hover */\n",
       "#sk-container-id-2 div.sk-estimator:hover {\n",
       "  /* unfitted */\n",
       "  background-color: var(--sklearn-color-unfitted-level-2);\n",
       "}\n",
       "\n",
       "#sk-container-id-2 div.sk-estimator.fitted:hover {\n",
       "  /* fitted */\n",
       "  background-color: var(--sklearn-color-fitted-level-2);\n",
       "}\n",
       "\n",
       "/* Specification for estimator info (e.g. \"i\" and \"?\") */\n",
       "\n",
       "/* Common style for \"i\" and \"?\" */\n",
       "\n",
       ".sk-estimator-doc-link,\n",
       "a:link.sk-estimator-doc-link,\n",
       "a:visited.sk-estimator-doc-link {\n",
       "  float: right;\n",
       "  font-size: smaller;\n",
       "  line-height: 1em;\n",
       "  font-family: monospace;\n",
       "  background-color: var(--sklearn-color-background);\n",
       "  border-radius: 1em;\n",
       "  height: 1em;\n",
       "  width: 1em;\n",
       "  text-decoration: none !important;\n",
       "  margin-left: 1ex;\n",
       "  /* unfitted */\n",
       "  border: var(--sklearn-color-unfitted-level-1) 1pt solid;\n",
       "  color: var(--sklearn-color-unfitted-level-1);\n",
       "}\n",
       "\n",
       ".sk-estimator-doc-link.fitted,\n",
       "a:link.sk-estimator-doc-link.fitted,\n",
       "a:visited.sk-estimator-doc-link.fitted {\n",
       "  /* fitted */\n",
       "  border: var(--sklearn-color-fitted-level-1) 1pt solid;\n",
       "  color: var(--sklearn-color-fitted-level-1);\n",
       "}\n",
       "\n",
       "/* On hover */\n",
       "div.sk-estimator:hover .sk-estimator-doc-link:hover,\n",
       ".sk-estimator-doc-link:hover,\n",
       "div.sk-label-container:hover .sk-estimator-doc-link:hover,\n",
       ".sk-estimator-doc-link:hover {\n",
       "  /* unfitted */\n",
       "  background-color: var(--sklearn-color-unfitted-level-3);\n",
       "  color: var(--sklearn-color-background);\n",
       "  text-decoration: none;\n",
       "}\n",
       "\n",
       "div.sk-estimator.fitted:hover .sk-estimator-doc-link.fitted:hover,\n",
       ".sk-estimator-doc-link.fitted:hover,\n",
       "div.sk-label-container:hover .sk-estimator-doc-link.fitted:hover,\n",
       ".sk-estimator-doc-link.fitted:hover {\n",
       "  /* fitted */\n",
       "  background-color: var(--sklearn-color-fitted-level-3);\n",
       "  color: var(--sklearn-color-background);\n",
       "  text-decoration: none;\n",
       "}\n",
       "\n",
       "/* Span, style for the box shown on hovering the info icon */\n",
       ".sk-estimator-doc-link span {\n",
       "  display: none;\n",
       "  z-index: 9999;\n",
       "  position: relative;\n",
       "  font-weight: normal;\n",
       "  right: .2ex;\n",
       "  padding: .5ex;\n",
       "  margin: .5ex;\n",
       "  width: min-content;\n",
       "  min-width: 20ex;\n",
       "  max-width: 50ex;\n",
       "  color: var(--sklearn-color-text);\n",
       "  box-shadow: 2pt 2pt 4pt #999;\n",
       "  /* unfitted */\n",
       "  background: var(--sklearn-color-unfitted-level-0);\n",
       "  border: .5pt solid var(--sklearn-color-unfitted-level-3);\n",
       "}\n",
       "\n",
       ".sk-estimator-doc-link.fitted span {\n",
       "  /* fitted */\n",
       "  background: var(--sklearn-color-fitted-level-0);\n",
       "  border: var(--sklearn-color-fitted-level-3);\n",
       "}\n",
       "\n",
       ".sk-estimator-doc-link:hover span {\n",
       "  display: block;\n",
       "}\n",
       "\n",
       "/* \"?\"-specific style due to the `<a>` HTML tag */\n",
       "\n",
       "#sk-container-id-2 a.estimator_doc_link {\n",
       "  float: right;\n",
       "  font-size: 1rem;\n",
       "  line-height: 1em;\n",
       "  font-family: monospace;\n",
       "  background-color: var(--sklearn-color-background);\n",
       "  border-radius: 1rem;\n",
       "  height: 1rem;\n",
       "  width: 1rem;\n",
       "  text-decoration: none;\n",
       "  /* unfitted */\n",
       "  color: var(--sklearn-color-unfitted-level-1);\n",
       "  border: var(--sklearn-color-unfitted-level-1) 1pt solid;\n",
       "}\n",
       "\n",
       "#sk-container-id-2 a.estimator_doc_link.fitted {\n",
       "  /* fitted */\n",
       "  border: var(--sklearn-color-fitted-level-1) 1pt solid;\n",
       "  color: var(--sklearn-color-fitted-level-1);\n",
       "}\n",
       "\n",
       "/* On hover */\n",
       "#sk-container-id-2 a.estimator_doc_link:hover {\n",
       "  /* unfitted */\n",
       "  background-color: var(--sklearn-color-unfitted-level-3);\n",
       "  color: var(--sklearn-color-background);\n",
       "  text-decoration: none;\n",
       "}\n",
       "\n",
       "#sk-container-id-2 a.estimator_doc_link.fitted:hover {\n",
       "  /* fitted */\n",
       "  background-color: var(--sklearn-color-fitted-level-3);\n",
       "}\n",
       "</style><div id=\"sk-container-id-2\" class=\"sk-top-container\"><div class=\"sk-text-repr-fallback\"><pre>KNeighborsClassifier(metric=&#x27;euclidean&#x27;)</pre><b>In a Jupyter environment, please rerun this cell to show the HTML representation or trust the notebook. <br />On GitHub, the HTML representation is unable to render, please try loading this page with nbviewer.org.</b></div><div class=\"sk-container\" hidden><div class=\"sk-item\"><div class=\"sk-estimator fitted sk-toggleable\"><input class=\"sk-toggleable__control sk-hidden--visually\" id=\"sk-estimator-id-2\" type=\"checkbox\" checked><label for=\"sk-estimator-id-2\" class=\"sk-toggleable__label fitted sk-toggleable__label-arrow fitted\">&nbsp;&nbsp;KNeighborsClassifier<a class=\"sk-estimator-doc-link fitted\" rel=\"noreferrer\" target=\"_blank\" href=\"https://scikit-learn.org/1.4/modules/generated/sklearn.neighbors.KNeighborsClassifier.html\">?<span>Documentation for KNeighborsClassifier</span></a><span class=\"sk-estimator-doc-link fitted\">i<span>Fitted</span></span></label><div class=\"sk-toggleable__content fitted\"><pre>KNeighborsClassifier(metric=&#x27;euclidean&#x27;)</pre></div> </div></div></div></div>"
      ],
      "text/plain": [
       "KNeighborsClassifier(metric='euclidean')"
      ]
     },
     "execution_count": 126,
     "metadata": {},
     "output_type": "execute_result"
    }
   ],
   "source": [
    "knn = KNeighborsClassifier(n_neighbors=5,metric = \"euclidean\")\n",
    "\n",
    "knn.fit(X_sm,y_sm)"
   ]
  },
  {
   "cell_type": "code",
   "execution_count": 127,
   "id": "26dce565",
   "metadata": {},
   "outputs": [
    {
     "name": "stdout",
     "output_type": "stream",
     "text": [
      "              precision    recall  f1-score   support\n",
      "\n",
      "           1       0.76      0.93      0.84        14\n",
      "           2       0.97      0.89      0.93        38\n",
      "           3       0.94      0.94      0.94        31\n",
      "\n",
      "    accuracy                           0.92        83\n",
      "   macro avg       0.89      0.92      0.90        83\n",
      "weighted avg       0.92      0.92      0.92        83\n",
      "\n"
     ]
    }
   ],
   "source": [
    "from sklearn.metrics import classification_report\n",
    "\n",
    "y_pred = knn.predict(X_val_scaled)\n",
    "print(classification_report(y_val,y_pred))\n"
   ]
  },
  {
   "cell_type": "code",
   "execution_count": 128,
   "id": "19dfa48a",
   "metadata": {},
   "outputs": [
    {
     "data": {
      "text/plain": [
       "<sklearn.metrics._plot.confusion_matrix.ConfusionMatrixDisplay at 0x7f8881474d90>"
      ]
     },
     "execution_count": 128,
     "metadata": {},
     "output_type": "execute_result"
    },
    {
     "data": {
      "image/png": "[encoded data removed]",
      "text/plain": [
       "<Figure size 432x288 with 2 Axes>"
      ]
     },
     "metadata": {
      "needs_background": "light"
     },
     "output_type": "display_data"
    }
   ],
   "source": [
    "from sklearn.metrics import confusion_matrix,ConfusionMatrixDisplay\n",
    "\n",
    "y_pred = knn.predict(X_test_scaled)\n",
    "con_mat = confusion_matrix(y_test,y_pred)\n",
    "ConfusionMatrixDisplay(con_mat).plot()"
   ]
  },
  {
   "cell_type": "code",
   "execution_count": 129,
   "id": "1f3652aa",
   "metadata": {},
   "outputs": [],
   "source": [
    "#Bias - Variance in KNN"
   ]
  },
  {
   "cell_type": "code",
   "execution_count": 130,
   "id": "cbb05c9d",
   "metadata": {},
   "outputs": [],
   "source": [
    "acc = []\n",
    "for i in range(1,51):\n",
    "    knn = KNeighborsClassifier(n_neighbors=i)\n",
    "    knn.fit(X_sm,y_sm)\n",
    "    score = knn.score(X_val_scaled,y_val)\n",
    "    acc.append(score)"
   ]
  },
  {
   "cell_type": "code",
   "execution_count": 131,
   "id": "27a38e25",
   "metadata": {},
   "outputs": [
    {
     "data": {
      "text/plain": [
       "[0.891566265060241,\n",
       " 0.8795180722891566,\n",
       " 0.927710843373494,\n",
       " 0.8674698795180723,\n",
       " 0.9156626506024096]"
      ]
     },
     "execution_count": 131,
     "metadata": {},
     "output_type": "execute_result"
    }
   ],
   "source": [
    "acc[:5]"
   ]
  },
  {
   "cell_type": "code",
   "execution_count": 132,
   "id": "b74469fe",
   "metadata": {},
   "outputs": [
    {
     "data": {
      "text/plain": [
       "Text(0, 0.5, 'Accuracy')"
      ]
     },
     "execution_count": 132,
     "metadata": {},
     "output_type": "execute_result"
    },
    {
     "data": {
      "image/png": "[encoded data removed]",
      "text/plain": [
       "<Figure size 864x432 with 1 Axes>"
      ]
     },
     "metadata": {
      "needs_background": "light"
     },
     "output_type": "display_data"
    }
   ],
   "source": [
    "plt.figure(figsize=(12, 6))\n",
    "plt.plot(range(1, 51), acc, color='red', linestyle='dashed', marker='o',\n",
    "         markerfacecolor='blue', markersize=10)\n",
    "plt.title('Accuracy of K Value')\n",
    "plt.xlabel('K Value')\n",
    "plt.ylabel('Accuracy')"
   ]
  },
  {
   "cell_type": "code",
   "execution_count": 133,
   "id": "091567d6",
   "metadata": {},
   "outputs": [],
   "source": [
    "# find the best value for K"
   ]
  },
  {
   "cell_type": "code",
   "execution_count": 136,
   "id": "f2b328ea",
   "metadata": {},
   "outputs": [
    {
     "data": {
      "text/plain": [
       "0.927710843373494"
      ]
     },
     "execution_count": 136,
     "metadata": {},
     "output_type": "execute_result"
    }
   ],
   "source": [
    "max(acc)"
   ]
  },
  {
   "cell_type": "code",
   "execution_count": 142,
   "id": "f13a2061",
   "metadata": {},
   "outputs": [
    {
     "data": {
      "text/plain": [
       "3"
      ]
     },
     "execution_count": 142,
     "metadata": {},
     "output_type": "execute_result"
    }
   ],
   "source": [
    "np.argmax(acc)+1 # gives max value of the item in the array"
   ]
  },
  {
   "cell_type": "markdown",
   "id": "8e980088",
   "metadata": {},
   "source": [
    "# KNN Imputer"
   ]
  },
  {
   "cell_type": "code",
   "execution_count": 143,
   "id": "f70d681b",
   "metadata": {},
   "outputs": [],
   "source": [
    "from sklearn.pipeline import Pipeline\n",
    "from sklearn.impute import KNNImputer\n",
    "from sklearn.preprocessing import StandardScaler\n"
   ]
  },
  {
   "cell_type": "code",
   "execution_count": 144,
   "id": "6fddf2f9",
   "metadata": {},
   "outputs": [],
   "source": [
    "scaler = StandardScaler()\n",
    "imputer = KNNImputer(n_neighbors=5)\n",
    "\n",
    "pipeline = Pipeline([\n",
    "    ('scaler', StandardScaler()),  # Step 1: StandardScaler for feature scaling\n",
    "    ('imputer', KNNImputer(n_neighbors=5))  # Step 2: KNNImputer for missing value imputation\n",
    "])"
   ]
  },
  {
   "cell_type": "code",
   "execution_count": 145,
   "id": "0f77c765",
   "metadata": {},
   "outputs": [
    {
     "data": {
      "text/plain": [
       "Region              0\n",
       "Fresh               0\n",
       "Milk                0\n",
       "Grocery             0\n",
       "Frozen              0\n",
       "Detergents_Paper    0\n",
       "Delicassen          0\n",
       "class               0\n",
       "dtype: int64"
      ]
     },
     "execution_count": 145,
     "metadata": {},
     "output_type": "execute_result"
    }
   ],
   "source": [
    "df.isna().sum(axis=0)\n",
    "\n",
    "X_transformed = pipeline.fit_transform(df)\n",
    "X_transformed = pd.DataFrame(X_transformed,columns=df.columns)\n",
    "X_transformed.isna().sum(axis=0)"
   ]
  },
  {
   "cell_type": "code",
   "execution_count": null,
   "id": "25861d0a",
   "metadata": {},
   "outputs": [],
   "source": []
  }
 ],
 "metadata": {
  "kernelspec": {
   "display_name": "Python 3 (ipykernel)",
   "language": "python",
   "name": "python3"
  },
  "language_info": {
   "codemirror_mode": {
    "name": "ipython",
    "version": 3
   },
   "file_extension": ".py",
   "mimetype": "text/x-python",
   "name": "python",
   "nbconvert_exporter": "python",
   "pygments_lexer": "ipython3",
   "version": "3.9.7"
  }
 },
 "nbformat": 4,
 "nbformat_minor": 5
}
