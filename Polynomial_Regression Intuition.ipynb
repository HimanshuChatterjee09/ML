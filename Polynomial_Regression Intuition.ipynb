{
 "cells": [
  {
   "cell_type": "code",
   "execution_count": 22,
   "id": "1131c87a",
   "metadata": {},
   "outputs": [
    {
     "data": {
      "image/png": "[encoded data removed]",
      "text/plain": [
       "<Figure size 360x216 with 1 Axes>"
      ]
     },
     "metadata": {
      "needs_background": "light"
     },
     "output_type": "display_data"
    }
   ],
   "source": [
    "import numpy as np\n",
    "import matplotlib.pyplot as plt\n",
    "\n",
    "np.random.seed(1)\n",
    "X = np.random.rand(50,1)\n",
    "y = 0.7*(X**5) - \\\n",
    "    2.1*(X**4) + \\\n",
    "    2.7*(X**3) + \\\n",
    "    3.5*(X**2) + \\\n",
    "    0.3* X + \\\n",
    "    0.4*np.random.rand(50,1) # no data in world is perfect\n",
    "fig = plt.figure(figsize=(5,3))\n",
    "plt.scatter(X, y)\n",
    "plt.xlabel(\"X\")\n",
    "plt.ylabel(\"Y\")\n",
    "plt.show()\n"
   ]
  },
  {
   "cell_type": "code",
   "execution_count": 23,
   "id": "20197e08",
   "metadata": {},
   "outputs": [],
   "source": [
    "def adj_r(r_sq,X,Y):\n",
    "  adj_r1 = (1 - ((1-r_sq)*(len(Y)-1))/(len(Y)-X.shape[1]-1) )\n",
    "  return adj_r1"
   ]
  },
  {
   "cell_type": "code",
   "execution_count": 24,
   "id": "15ce6735",
   "metadata": {},
   "outputs": [],
   "source": [
    "def r2_score(y,y_):\n",
    "    num = np.sum((y-y_)**2)\n",
    "    denom = np.sum((y- y.mean())**2)\n",
    "    score = (1- num/denom)\n",
    "    return score"
   ]
  },
  {
   "cell_type": "code",
   "execution_count": 25,
   "id": "080c09be",
   "metadata": {},
   "outputs": [],
   "source": [
    "from sklearn.linear_model import LinearRegression"
   ]
  },
  {
   "cell_type": "code",
   "execution_count": 26,
   "id": "c9f84ffa",
   "metadata": {},
   "outputs": [
    {
     "name": "stdout",
     "output_type": "stream",
     "text": [
      "Adj. R-square: 0.9332371047707784\n"
     ]
    }
   ],
   "source": [
    "model = LinearRegression()\n",
    "model.fit(X,y)\n",
    "output = model.predict(X)\n",
    "print('Adj. R-square:', adj_r(r2_score(y,output),X,y ) )"
   ]
  },
  {
   "cell_type": "code",
   "execution_count": 27,
   "id": "0930339b",
   "metadata": {},
   "outputs": [
    {
     "data": {
      "image/png": "[encoded data removed]",
      "text/plain": [
       "<Figure size 360x216 with 1 Axes>"
      ]
     },
     "metadata": {
      "needs_background": "light"
     },
     "output_type": "display_data"
    }
   ],
   "source": [
    "fig = plt.figure(figsize=(5,3))\n",
    "plt.scatter(X, y, label=\"samples\")\n",
    "plt.plot(X, output, label=\"prediction\",color='orange')\n",
    "plt.xlabel(\"X\")\n",
    "plt.ylabel(\"Y\")\n",
    "plt.show()"
   ]
  },
  {
   "cell_type": "code",
   "execution_count": 28,
   "id": "84b6aaf1",
   "metadata": {},
   "outputs": [
    {
     "name": "stdout",
     "output_type": "stream",
     "text": [
      "[[4.17022005e-01 1.73907352e-01]\n",
      " [7.20324493e-01 5.18867376e-01]\n",
      " [1.14374817e-04 1.30815988e-08]\n",
      " [3.02332573e-01 9.14049845e-02]\n",
      " [1.46755891e-01 2.15372915e-02]]\n"
     ]
    }
   ],
   "source": [
    "#adding new feature X^2\n",
    "X_deg2 = np.hstack([X, X**2])\n",
    "print(X_deg2[:5])"
   ]
  },
  {
   "cell_type": "code",
   "execution_count": 29,
   "id": "b565c833",
   "metadata": {},
   "outputs": [
    {
     "name": "stdout",
     "output_type": "stream",
     "text": [
      "Adj. R-square: 0.9947910474710182\n",
      "Adj. R-square: 0.9947910474710182\n"
     ]
    },
    {
     "data": {
      "image/png": "[encoded data removed]",
      "text/plain": [
       "<Figure size 360x216 with 1 Axes>"
      ]
     },
     "metadata": {
      "needs_background": "light"
     },
     "output_type": "display_data"
    }
   ],
   "source": [
    "model_deg2 = LinearRegression()\n",
    "model_deg2.fit(X_deg2, y)\n",
    "output = model_deg2.predict(X_deg2)\n",
    "\n",
    "print('Adj. R-square:', adj_r(r2_score(y,output),X,y ) )\n",
    "print('Adj. R-square:', adj_r(r2_score(y,output),X,y ) )\n",
    "\n",
    "fig = plt.figure(figsize=(5,3))\n",
    "plt.scatter(X, y, label=\"samples\")\n",
    "plt.scatter(X, output, label=\"prediction\",color='orange')\n",
    "plt.xlabel(\"X\")\n",
    "plt.ylabel(\"Y\")\n",
    "plt.show()"
   ]
  },
  {
   "cell_type": "code",
   "execution_count": 30,
   "id": "1f7558e7",
   "metadata": {},
   "outputs": [],
   "source": [
    "from sklearn.preprocessing import PolynomialFeatures"
   ]
  },
  {
   "cell_type": "code",
   "execution_count": 33,
   "id": "4df8cfa1",
   "metadata": {},
   "outputs": [],
   "source": [
    "poly = PolynomialFeatures(2)\n",
    "X_poly = poly.fit_transform(X)"
   ]
  },
  {
   "cell_type": "code",
   "execution_count": 34,
   "id": "e1684dd3",
   "metadata": {},
   "outputs": [
    {
     "data": {
      "text/plain": [
       "array([[1.00000000e+00, 4.17022005e-01, 1.73907352e-01],\n",
       "       [1.00000000e+00, 7.20324493e-01, 5.18867376e-01],\n",
       "       [1.00000000e+00, 1.14374817e-04, 1.30815988e-08],\n",
       "       [1.00000000e+00, 3.02332573e-01, 9.14049845e-02],\n",
       "       [1.00000000e+00, 1.46755891e-01, 2.15372915e-02],\n",
       "       [1.00000000e+00, 9.23385948e-02, 8.52641608e-03],\n",
       "       [1.00000000e+00, 1.86260211e-01, 3.46928663e-02],\n",
       "       [1.00000000e+00, 3.45560727e-01, 1.19412216e-01],\n",
       "       [1.00000000e+00, 3.96767474e-01, 1.57424429e-01],\n",
       "       [1.00000000e+00, 5.38816734e-01, 2.90323473e-01],\n",
       "       [1.00000000e+00, 4.19194514e-01, 1.75724041e-01],\n",
       "       [1.00000000e+00, 6.85219500e-01, 4.69525764e-01],\n",
       "       [1.00000000e+00, 2.04452250e-01, 4.18007224e-02],\n",
       "       [1.00000000e+00, 8.78117436e-01, 7.71090232e-01],\n",
       "       [1.00000000e+00, 2.73875932e-02, 7.50080261e-04],\n",
       "       [1.00000000e+00, 6.70467510e-01, 4.49526682e-01],\n",
       "       [1.00000000e+00, 4.17304802e-01, 1.74143298e-01],\n",
       "       [1.00000000e+00, 5.58689828e-01, 3.12134324e-01],\n",
       "       [1.00000000e+00, 1.40386939e-01, 1.97084925e-02],\n",
       "       [1.00000000e+00, 1.98101489e-01, 3.92442000e-02],\n",
       "       [1.00000000e+00, 8.00744569e-01, 6.41191864e-01],\n",
       "       [1.00000000e+00, 9.68261576e-01, 9.37530479e-01],\n",
       "       [1.00000000e+00, 3.13424178e-01, 9.82347155e-02],\n",
       "       [1.00000000e+00, 6.92322616e-01, 4.79310604e-01],\n",
       "       [1.00000000e+00, 8.76389152e-01, 7.68057946e-01],\n",
       "       [1.00000000e+00, 8.94606664e-01, 8.00321082e-01],\n",
       "       [1.00000000e+00, 8.50442114e-02, 7.23251789e-03],\n",
       "       [1.00000000e+00, 3.90547832e-02, 1.52527609e-03],\n",
       "       [1.00000000e+00, 1.69830420e-01, 2.88423714e-02],\n",
       "       [1.00000000e+00, 8.78142503e-01, 7.71134256e-01],\n",
       "       [1.00000000e+00, 9.83468338e-02, 9.67209972e-03],\n",
       "       [1.00000000e+00, 4.21107625e-01, 1.77331632e-01],\n",
       "       [1.00000000e+00, 9.57889530e-01, 9.17552352e-01],\n",
       "       [1.00000000e+00, 5.33165285e-01, 2.84265221e-01],\n",
       "       [1.00000000e+00, 6.91877114e-01, 4.78693941e-01],\n",
       "       [1.00000000e+00, 3.15515631e-01, 9.95501134e-02],\n",
       "       [1.00000000e+00, 6.86500928e-01, 4.71283524e-01],\n",
       "       [1.00000000e+00, 8.34625672e-01, 6.96600012e-01],\n",
       "       [1.00000000e+00, 1.82882773e-02, 3.34461088e-04],\n",
       "       [1.00000000e+00, 7.50144315e-01, 5.62716493e-01],\n",
       "       [1.00000000e+00, 9.88861089e-01, 9.77846253e-01],\n",
       "       [1.00000000e+00, 7.48165654e-01, 5.59751846e-01],\n",
       "       [1.00000000e+00, 2.80443992e-01, 7.86488327e-02],\n",
       "       [1.00000000e+00, 7.89279328e-01, 6.22961858e-01],\n",
       "       [1.00000000e+00, 1.03226007e-01, 1.06556084e-02],\n",
       "       [1.00000000e+00, 4.47893526e-01, 2.00608611e-01],\n",
       "       [1.00000000e+00, 9.08595503e-01, 8.25545788e-01],\n",
       "       [1.00000000e+00, 2.93614148e-01, 8.62092681e-02],\n",
       "       [1.00000000e+00, 2.87775339e-01, 8.28146455e-02],\n",
       "       [1.00000000e+00, 1.30028572e-01, 1.69074296e-02]])"
      ]
     },
     "execution_count": 34,
     "metadata": {},
     "output_type": "execute_result"
    }
   ],
   "source": [
    "X_poly"
   ]
  },
  {
   "cell_type": "code",
   "execution_count": 36,
   "id": "d4616903",
   "metadata": {},
   "outputs": [
    {
     "name": "stdout",
     "output_type": "stream",
     "text": [
      "Adj. R-square for Model Degree1: 0.9318166176382416\n"
     ]
    },
    {
     "data": {
      "image/png": "[encoded data removed]",
      "text/plain": [
       "<Figure size 360x216 with 1 Axes>"
      ]
     },
     "metadata": {
      "needs_background": "light"
     },
     "output_type": "display_data"
    },
    {
     "name": "stdout",
     "output_type": "stream",
     "text": [
      "Adj. R-square for Model Degree2: 0.994564571274106\n"
     ]
    },
    {
     "data": {
      "image/png": "[encoded data removed]",
      "text/plain": [
       "<Figure size 360x216 with 1 Axes>"
      ]
     },
     "metadata": {
      "needs_background": "light"
     },
     "output_type": "display_data"
    },
    {
     "name": "stdout",
     "output_type": "stream",
     "text": [
      "Adj. R-square for Model Degree3: 0.9944735532438161\n"
     ]
    },
    {
     "data": {
      "image/png": "[encoded data removed]",
      "text/plain": [
       "<Figure size 360x216 with 1 Axes>"
      ]
     },
     "metadata": {
      "needs_background": "light"
     },
     "output_type": "display_data"
    },
    {
     "name": "stdout",
     "output_type": "stream",
     "text": [
      "Adj. R-square for Model Degree4: 0.9954971261912255\n"
     ]
    },
    {
     "data": {
      "image/png": "[encoded data removed]",
      "text/plain": [
       "<Figure size 360x216 with 1 Axes>"
      ]
     },
     "metadata": {
      "needs_background": "light"
     },
     "output_type": "display_data"
    },
    {
     "name": "stdout",
     "output_type": "stream",
     "text": [
      "Adj. R-square for Model Degree5: 0.995442243943045\n"
     ]
    },
    {
     "data": {
      "image/png": "[encoded data removed]",
      "text/plain": [
       "<Figure size 360x216 with 1 Axes>"
      ]
     },
     "metadata": {
      "needs_background": "light"
     },
     "output_type": "display_data"
    }
   ],
   "source": [
    "from sklearn.preprocessing import StandardScaler\n",
    "\n",
    "scores = []\n",
    "# Using Degrees 1 to 5, and seeing performance of the model\n",
    "for i in range(1, 6): # i = degree\n",
    "\n",
    "    #creates polynomial feature\n",
    "    poly = PolynomialFeatures(i)\n",
    "    X_poly = poly.fit_transform(X)\n",
    "\n",
    "    #Standardization\n",
    "    scaler = StandardScaler()\n",
    "    scaler.fit(X_poly)\n",
    "    X_poly_scaled = scaler.transform(X_poly)\n",
    "\n",
    "    #training model\n",
    "    model = LinearRegression()\n",
    "    model.fit(X_poly_scaled, y)\n",
    "\n",
    "    #Prediction\n",
    "    output = model.predict(X_poly_scaled)\n",
    "\n",
    "    #Plotting\n",
    "    print(f'Adj. R-square for Model Degree{i}: {adj_r(r2_score(y,output),X_poly_scaled,y )}' )\n",
    "\n",
    "    fig = plt.figure(figsize=(5,3))\n",
    "    plt.scatter(X, y, label=\"samples\")\n",
    "    plt.scatter(X, output, label=\"prediction\")\n",
    "    plt.xlabel(\"X\")\n",
    "    plt.ylabel(\"Y\")\n",
    "    plt.title(f\"Degree {i}\")\n",
    "    plt.show()"
   ]
  },
  {
   "cell_type": "code",
   "execution_count": 43,
   "id": "276028de",
   "metadata": {},
   "outputs": [],
   "source": [
    "from sklearn.pipeline import make_pipeline"
   ]
  },
  {
   "cell_type": "code",
   "execution_count": 44,
   "id": "1a22c577",
   "metadata": {},
   "outputs": [],
   "source": [
    "scaler = StandardScaler()\n",
    "poly = PolynomialFeatures(2)\n",
    "model = LinearRegression()"
   ]
  },
  {
   "cell_type": "code",
   "execution_count": 45,
   "id": "14da4197",
   "metadata": {},
   "outputs": [],
   "source": [
    "polyreg_scaled = make_pipeline(poly,scaler,model)"
   ]
  },
  {
   "cell_type": "code",
   "execution_count": 46,
   "id": "72bb9413",
   "metadata": {},
   "outputs": [
    {
     "data": {
      "text/plain": [
       "Pipeline(steps=[('polynomialfeatures', PolynomialFeatures()),\n",
       "                ('standardscaler', StandardScaler()),\n",
       "                ('linearregression', LinearRegression())])"
      ]
     },
     "execution_count": 46,
     "metadata": {},
     "output_type": "execute_result"
    }
   ],
   "source": [
    "polyreg_scaled.fit(X,y)"
   ]
  },
  {
   "cell_type": "code",
   "execution_count": 47,
   "id": "b7ee2dd3",
   "metadata": {},
   "outputs": [
    {
     "data": {
      "text/plain": [
       "0.9948973526246709"
      ]
     },
     "execution_count": 47,
     "metadata": {},
     "output_type": "execute_result"
    }
   ],
   "source": [
    "polyreg_scaled.score(X,y)"
   ]
  },
  {
   "cell_type": "code",
   "execution_count": 49,
   "id": "7154ad78",
   "metadata": {},
   "outputs": [],
   "source": [
    "from sklearn.model_selection import train_test_split\n",
    "X_train, X_test, y_train, y_test = train_test_split(X, y, test_size=0.2, random_state=1)"
   ]
  },
  {
   "cell_type": "code",
   "execution_count": 50,
   "id": "5a1abfe1",
   "metadata": {},
   "outputs": [],
   "source": [
    "from sklearn.metrics import mean_squared_error\n",
    "\n",
    "degrees = 15 # number of data-points\n",
    "train_scores = []\n",
    "test_scores = []\n",
    "\n",
    "train_loss = []\n",
    "test_loss = []\n",
    "\n",
    "scaler = StandardScaler()\n",
    "\n",
    "for degree in range(1, degrees):\n",
    "\n",
    "    polyreg_scaled = make_pipeline(PolynomialFeatures(degree), scaler, LinearRegression())\n",
    "    polyreg_scaled.fit(X_train, y_train)\n",
    "\n",
    "    train_score = polyreg_scaled.score(X_train, y_train)\n",
    "    test_score = polyreg_scaled.score(X_test, y_test)\n",
    "\n",
    "    train_scores.append(adj_r(train_score,X_train,y_train))\n",
    "    test_scores.append(adj_r(test_score,X_test,y_test))\n",
    "\n",
    "    output1 = polyreg_scaled.predict(X_train)\n",
    "    output2 = polyreg_scaled.predict(X_test)\n",
    "\n",
    "    train_loss.append(mean_squared_error(y_train,output1))\n",
    "    test_loss.append(mean_squared_error(y_test,output2))"
   ]
  },
  {
   "cell_type": "code",
   "execution_count": 51,
   "id": "6dcc1d75",
   "metadata": {},
   "outputs": [
    {
     "data": {
      "image/png": "[encoded data removed]",
      "text/plain": [
       "<Figure size 864x216 with 2 Axes>"
      ]
     },
     "metadata": {
      "needs_background": "light"
     },
     "output_type": "display_data"
    }
   ],
   "source": [
    "fig, axes = plt.subplots(1, 2, figsize=(12, 3))\n",
    "axes[0].plot(list(range(1, 15)), train_scores, label=\"train\")\n",
    "axes[0].plot(list(range(1, 15)), test_scores, label=\"test\")\n",
    "axes[0].legend(loc='lower right')\n",
    "axes[0].set_xlabel(\"degree\")\n",
    "axes[0].set_ylabel(\"Adj.R-score\")\n",
    "\n",
    "axes[1].plot(list(range(1, 15)), train_loss, label=\"train\")\n",
    "axes[1].plot(list(range(1, 15)), test_loss, label=\"test\")\n",
    "axes[1].legend(loc='upper left')\n",
    "axes[1].set_xlabel(\"degree\")\n",
    "axes[1].set_ylabel(\"MSE\")\n",
    "\n",
    "plt.show()"
   ]
  },
  {
   "cell_type": "code",
   "execution_count": null,
   "id": "ebe9d0ba",
   "metadata": {},
   "outputs": [],
   "source": []
  }
 ],
 "metadata": {
  "kernelspec": {
   "display_name": "Python 3 (ipykernel)",
   "language": "python",
   "name": "python3"
  },
  "language_info": {
   "codemirror_mode": {
    "name": "ipython",
    "version": 3
   },
   "file_extension": ".py",
   "mimetype": "text/x-python",
   "name": "python",
   "nbconvert_exporter": "python",
   "pygments_lexer": "ipython3",
   "version": "3.9.7"
  }
 },
 "nbformat": 4,
 "nbformat_minor": 5
}
